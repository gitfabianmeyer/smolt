{
 "cells": [
  {
   "cell_type": "markdown",
   "id": "0da4c500-6d4f-407b-94b3-f25cf4bb6d75",
   "metadata": {},
   "source": [
    "7.2 \n",
    "Compute Precision, Recall and F1 values for the following two parses\n"
   ]
  },
  {
   "cell_type": "code",
   "execution_count": 3,
   "id": "791c6b31-0f6a-46e5-9404-5d921f09ca5d",
   "metadata": {},
   "outputs": [
    {
     "name": "stdout",
     "output_type": "stream",
     "text": [
      "Labeled:\n",
      "Precision: 0.9473684210526315\n",
      "Recall: 1.0\n",
      "F1: 0.972972972972973\n"
     ]
    }
   ],
   "source": [
    "#labeled\n",
    "print(\"Labeled:\")\n",
    "# 14 pos-tags, 5 segments\n",
    "sys = 19\n",
    "\n",
    "#14 pos, 4 segs\n",
    "gold = 18\n",
    "\n",
    "# 14 pos, 4 segs\n",
    "tp= 18\n",
    "\n",
    "# precision (tp / tp +fp)\n",
    "precision =tp / sys\n",
    "print(f\"Precision: {precision}\")\n",
    "\n",
    "# recall tp / tp + fn\n",
    "recall = tp / gold\n",
    "print(f\"Recall: {recall}\")\n",
    "\n",
    "f1 = (2* precision * recall)/(precision + recall)\n",
    "print(f\"F1: {f1}\")"
   ]
  },
  {
   "cell_type": "code",
   "execution_count": 4,
   "id": "dda53738-74c7-4bf9-977e-1a5e71474c5d",
   "metadata": {},
   "outputs": [
    {
     "name": "stdout",
     "output_type": "stream",
     "text": [
      "unlabeled\n",
      "Precision: 0.5\n",
      "Recall: 0.5333333333333333\n",
      "F1: 0.5161290322580646\n"
     ]
    }
   ],
   "source": [
    "print(\"unlabeled\")\n",
    "# 8 left S, 1 konj, 7 right s\n",
    "sys = 16\n",
    "# 8 + 7\n",
    "gold = 15\n",
    "\n",
    "tp = 8\n",
    "# precision (tp / tp +fp)\n",
    "precision =tp / sys\n",
    "print(f\"Precision: {precision}\")\n",
    "\n",
    "# recall tp / tp + fn\n",
    "recall = tp / gold\n",
    "print(f\"Recall: {recall}\")\n",
    "\n",
    "f1 = (2* precision * recall)/(precision + recall)\n",
    "print(f\"F1: {f1}\")"
   ]
  },
  {
   "cell_type": "markdown",
   "id": "45c8b971-5273-4013-95c5-b2a1ba88aee0",
   "metadata": {},
   "source": [
    "Is it possible to get 0% unlabeled precision?  \n",
    "Yes, e.g. if all parts are directly linked to the main s while in the gold set every word is part of a substructure (NP) of s"
   ]
  },
  {
   "cell_type": "markdown",
   "id": "9178356c-a1bd-404e-bf9e-722d1ca72fbf",
   "metadata": {},
   "source": [
    "72b Train PCFG  \n"
   ]
  },
  {
   "cell_type": "code",
   "execution_count": null,
   "id": "41ab910f-fcf3-4c73-87a3-56d29f081fbf",
   "metadata": {},
   "outputs": [],
   "source": []
  },
  {
   "cell_type": "code",
   "execution_count": null,
   "id": "8837227b-d2ff-4c0e-9e85-a8c1dc8d05e8",
   "metadata": {},
   "outputs": [],
   "source": []
  },
  {
   "cell_type": "code",
   "execution_count": 37,
   "id": "ebd880d9-1b7b-430a-8e27-4fdb19f1c09b",
   "metadata": {},
   "outputs": [],
   "source": [
    "class MLEEntry:\n",
    "    def __init__(self, tag):\n",
    "        self.count = 0\n",
    "        self.tag = tag\n",
    "        self.connections = 0\n",
    "        self.tag_con = {}\n",
    "    \n",
    "    def add(self, tag, count=1):\n",
    "        try:\n",
    "            self.tag_con[tag] += count\n",
    "        except KeyError:\n",
    "            self.tag_con[tag] = count\n",
    "        self.connections += count\n",
    "    \n",
    "    def info(self):\n",
    "        print(f'Tag: {self.tag}')\n",
    "        print(f\"Count: {self.count}\")\n",
    "        print(f\"Connections: {self.connections}\")\n",
    "        print(self.tag_con)\n",
    "            \n",
    "s = MLEEntry(\"s\")\n",
    "np = MLEEntry(\"np\")\n",
    "pp = MLEEntry(\"pp\")\n",
    "pn = MLEEntry(\"pn\")"
   ]
  },
  {
   "cell_type": "code",
   "execution_count": 38,
   "id": "a3ce459d-3823-4362-8891-a0269fd31b8c",
   "metadata": {},
   "outputs": [],
   "source": [
    "#counts außerdedem gehören...\n",
    "s.count += 1\n",
    "s.add(\"adv\", 1)\n",
    "s.add(\"vvfin\", 1)\n",
    "s.add(\"fper\", 1)\n",
    "s.add(\"np\",1)\n",
    "\n",
    "np.count += 6\n",
    "np.add(\"np\", 5)\n",
    "np.add(\"pn\",1)\n",
    "np.add(\"art\",1)\n",
    "np.add(\"pp\",1)\n",
    "np.add(\"nn\", 6)\n",
    "np.add(\"kon\",2)\n",
    "np.add(\"adj\", 1)\n",
    "np.add(\"kokom\", 1)\n",
    "\n",
    "pn.count += 1\n",
    "pn.add(\"ne\",1)\n",
    "\n",
    "pp.count +=1\n",
    "pp.add(\"appr\", 1)\n",
    "pp.add(\"adja\",1)\n",
    "pp.add(\"nn\",1 )"
   ]
  },
  {
   "cell_type": "code",
   "execution_count": 39,
   "id": "0d1df7e5-91fd-42ea-a2f9-7f9a8552240c",
   "metadata": {},
   "outputs": [],
   "source": [
    "# counts so erklärt...\n",
    "s.count += 1\n",
    "s.add(\"adv\", 1)\n",
    "s.add(\"vvfin\", 1)\n",
    "s.add(\"np\", 1)\n",
    "\n",
    "np.count += 1\n",
    "np.add(\"pn\", 1)\n",
    "np.add(\"pp\",1)\n",
    "\n",
    "pn.count += 2\n",
    "pn.add(\"ne\", 4)\n",
    "\n",
    "pp.count += 2\n",
    "pp.add(\"appr\", 2)\n",
    "pp.add(\"art\", 1)\n",
    "pp.add(\"nn\", 1)\n",
    "pp.add(\"pn\", 1)\n",
    "pp.add(\"pp\", 1)\n",
    "pp.add(\"ne\", 1)\n"
   ]
  },
  {
   "cell_type": "code",
   "execution_count": 40,
   "id": "f9b04606-6900-422c-881c-de2be1d8b011",
   "metadata": {},
   "outputs": [],
   "source": [
    "# counts er wäre vielleich..\n",
    "\n",
    "s.count += 3\n",
    "s.add(\"s\", 2)\n",
    "s.add(\"kon\", 1)\n",
    "s.add(\"pper\", 1)\n",
    "s.add(\"vafin\", 2)\n",
    "s.add(\"adv\", 1)\n",
    "s.add(\"np\", 2)\n",
    "s.add(\"pds\",1)\n",
    "s.add(\"ptkneg\", 1)\n",
    "\n",
    "np.count += 2\n",
    "np.add(\"art\", 1)\n",
    "np.add(\"adja\", 1)\n",
    "np.add(\"nn\", 1)\n",
    "np.add(\"pposat\",1)\n",
    "np.add(\"nn\", 1)"
   ]
  },
  {
   "cell_type": "code",
   "execution_count": 41,
   "id": "88d5c7f6-6656-4e46-a6f0-ffb8508accb6",
   "metadata": {},
   "outputs": [],
   "source": [
    "# counts die kritik...\n",
    "\n",
    "s.count += 1\n",
    "s.add(\"np\", 1)\n",
    "s.add(\"vvfin\", 1)\n",
    "s.add(\"prf\", 1)\n",
    "s.add(\"pp\", 2)\n",
    "\n",
    "np.count += 2\n",
    "np.add(\"art\",2)\n",
    "np.add(\"nn\", 2)\n",
    "np.add(\"np\", 1)\n",
    "np.add(\"pp\", 1)\n",
    "\n",
    "pp.count += 4\n",
    "pp.add(\"appr\", 2)\n",
    "pp.add(\"ne\",1)\n",
    "pp.add(\"pds\",1)\n",
    "pp.add(\"adja\",1)\n",
    "pp.add(\"nn\", 2)\n",
    "pp.add(\"appart\",1)"
   ]
  },
  {
   "cell_type": "code",
   "execution_count": 42,
   "id": "78f7ffa1-21fc-4f98-80c1-bda4c7fa512c",
   "metadata": {},
   "outputs": [
    {
     "name": "stdout",
     "output_type": "stream",
     "text": [
      "Tag: s\n",
      "Count: 6\n",
      "Connections: 23\n",
      "{'adv': 3, 'vvfin': 3, 'fper': 1, 'np': 5, 's': 2, 'kon': 1, 'pper': 1, 'vafin': 2, 'pds': 1, 'ptkneg': 1, 'prf': 1, 'pp': 2}\n"
     ]
    }
   ],
   "source": [
    "s.info()"
   ]
  },
  {
   "cell_type": "code",
   "execution_count": 43,
   "id": "dac27bc3-ea15-473d-a91e-cf27b8bea8a1",
   "metadata": {},
   "outputs": [
    {
     "name": "stdout",
     "output_type": "stream",
     "text": [
      "Tag: np\n",
      "Count: 11\n",
      "Connections: 31\n",
      "{'np': 6, 'pn': 2, 'art': 4, 'pp': 3, 'nn': 10, 'kon': 2, 'adj': 1, 'kokom': 1, 'adja': 1, 'pposat': 1}\n"
     ]
    }
   ],
   "source": [
    "np.info()"
   ]
  },
  {
   "cell_type": "code",
   "execution_count": 44,
   "id": "7273b27b-b9d4-4b46-a756-80de7a8c48f8",
   "metadata": {},
   "outputs": [
    {
     "name": "stdout",
     "output_type": "stream",
     "text": [
      "Tag: pp\n",
      "Count: 7\n",
      "Connections: 18\n",
      "{'appr': 5, 'adja': 2, 'nn': 4, 'art': 1, 'pn': 1, 'pp': 1, 'ne': 2, 'pds': 1, 'appart': 1}\n"
     ]
    }
   ],
   "source": [
    "pp.info()"
   ]
  },
  {
   "cell_type": "code",
   "execution_count": 45,
   "id": "acaad05e-2d44-4445-97ed-2af25a32d1a6",
   "metadata": {},
   "outputs": [
    {
     "name": "stdout",
     "output_type": "stream",
     "text": [
      "Tag: pn\n",
      "Count: 3\n",
      "Connections: 5\n",
      "{'ne': 5}\n"
     ]
    }
   ],
   "source": [
    "pn.info()"
   ]
  },
  {
   "cell_type": "code",
   "execution_count": 48,
   "id": "a43b7934-ed6a-4838-ba36-937ca5950c41",
   "metadata": {},
   "outputs": [],
   "source": [
    "mles = [s, np, pp, pn]\n",
    "def get_pcfg(mles):\n",
    "    for mle in mles:\n",
    "        for key in mle.tag_con.keys():\n",
    "            print(f\"{mle.tag} ---> {key}: { mle.tag_con[key] / mle.connections}\")"
   ]
  },
  {
   "cell_type": "code",
   "execution_count": 49,
   "id": "8f708c64-231e-4372-b5ad-3dfeda8c7551",
   "metadata": {},
   "outputs": [
    {
     "name": "stdout",
     "output_type": "stream",
     "text": [
      "s ---> adv: 0.13043478260869565\n",
      "s ---> vvfin: 0.13043478260869565\n",
      "s ---> fper: 0.043478260869565216\n",
      "s ---> np: 0.21739130434782608\n",
      "s ---> s: 0.08695652173913043\n",
      "s ---> kon: 0.043478260869565216\n",
      "s ---> pper: 0.043478260869565216\n",
      "s ---> vafin: 0.08695652173913043\n",
      "s ---> pds: 0.043478260869565216\n",
      "s ---> ptkneg: 0.043478260869565216\n",
      "s ---> prf: 0.043478260869565216\n",
      "s ---> pp: 0.08695652173913043\n",
      "np ---> np: 0.1935483870967742\n",
      "np ---> pn: 0.06451612903225806\n",
      "np ---> art: 0.12903225806451613\n",
      "np ---> pp: 0.0967741935483871\n",
      "np ---> nn: 0.3225806451612903\n",
      "np ---> kon: 0.06451612903225806\n",
      "np ---> adj: 0.03225806451612903\n",
      "np ---> kokom: 0.03225806451612903\n",
      "np ---> adja: 0.03225806451612903\n",
      "np ---> pposat: 0.03225806451612903\n",
      "pp ---> appr: 0.2777777777777778\n",
      "pp ---> adja: 0.1111111111111111\n",
      "pp ---> nn: 0.2222222222222222\n",
      "pp ---> art: 0.05555555555555555\n",
      "pp ---> pn: 0.05555555555555555\n",
      "pp ---> pp: 0.05555555555555555\n",
      "pp ---> ne: 0.1111111111111111\n",
      "pp ---> pds: 0.05555555555555555\n",
      "pp ---> appart: 0.05555555555555555\n",
      "pn ---> ne: 1.0\n"
     ]
    }
   ],
   "source": [
    "get_pcfg(mles)"
   ]
  },
  {
   "cell_type": "markdown",
   "id": "8e75ab71-36f1-4a35-96be-acb3db2c98f4",
   "metadata": {},
   "source": [
    "### 7.3"
   ]
  },
  {
   "cell_type": "markdown",
   "id": "c602e3d3-3d6e-48c5-b259-354d27b68385",
   "metadata": {},
   "source": [
    "![Parse Tree](parsetree.png)"
   ]
  },
  {
   "cell_type": "markdown",
   "id": "fa4beb02-1ef2-4eb6-beb3-e59b9774bbd5",
   "metadata": {},
   "source": [
    "(S  \n",
    "    &nbsp;&nbsp;&nbsp;&nbsp;(NP (NNP Buffalo) (NNP buffalo) (NNP Buffalo))  \n",
    "     &nbsp;&nbsp;&nbsp;&nbsp;(NP (JJ buffalo)(NN buffalo))  \n",
    "     &nbsp;&nbsp;&nbsp;&nbsp;(,)  \n",
    "     &nbsp;&nbsp;&nbsp;&nbsp;(NP (NNP buffalo)(NNP Buffalo)(NNP buffalo))    \n",
    "     )  \n",
    "     \n",
    "It seems not to be a sentence, as the top level tag says \"FRAG\" instead of \"S\". Obviously it parsed three nounephrases and failed to find a verb phrase."
   ]
  },
  {
   "cell_type": "code",
   "execution_count": null,
   "id": "00474afb-77b3-4064-a5c3-064b52366bc2",
   "metadata": {},
   "outputs": [],
   "source": []
  }
 ],
 "metadata": {
  "kernelspec": {
   "display_name": "Python 3",
   "language": "python",
   "name": "python3"
  },
  "language_info": {
   "codemirror_mode": {
    "name": "ipython",
    "version": 3
   },
   "file_extension": ".py",
   "mimetype": "text/x-python",
   "name": "python",
   "nbconvert_exporter": "python",
   "pygments_lexer": "ipython3",
   "version": "3.8.8"
  }
 },
 "nbformat": 4,
 "nbformat_minor": 5
}
