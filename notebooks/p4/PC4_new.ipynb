{
 "cells": [
  {
   "cell_type": "markdown",
   "id": "4db5c0f9",
   "metadata": {},
   "source": [
    "# Welcome to the <span style=\"color:blue\">Statistical Methods of Language Technologyb SoSe21</span> course\n",
    "###  Dr. Seid Muhie Yimam\n",
    "   * Email: yimam@informatik.uni-hamburg.de\n",
    "   * Office: Informatikum, F-415\n",
    "  \n",
    "###  Dr. Özge Alaçam\n",
    "   * Email: alacam@informatik.uni-hamburg.de\n",
    "   * Office: Informatikum, F-435"
   ]
  },
  {
   "cell_type": "markdown",
   "id": "30ad78af",
   "metadata": {},
   "source": [
    "## Topic of this week;\n",
    "In this first practice class, we are going to focus on three main topics, which will be useful to complete 1st assignment;\n",
    "* HMM models\n",
    "* Viterbi Algorithm\n",
    "\n",
    "\n",
    "## Deadline: 12/17 May\n",
    "\n",
    "___\n",
    "\n",
    "## HMM \n",
    " \n",
    "check this link for more hands-on practice on coding backward and forward HMM models and Viterbi algorithm from scratch!\n",
    "https://notebook.community/danijel3/ASRDemos/notebooks/HMM_FST"
   ]
  },
  {
   "cell_type": "markdown",
   "id": "486a8bab",
   "metadata": {},
   "source": [
    "# <span style=\"color:red\"> In class Exercises </span>"
   ]
  },
  {
   "cell_type": "markdown",
   "id": "54610a0f",
   "metadata": {},
   "source": [
    "## <span style=\"color:red\"> Problem 4.1 HMM: Probability of observing a sequence </span>\n",
    "Consider the HMM given\n",
    "\n",
    "<img src=\"hmm1.png\" alt=\"hmm1\" width=\"50%\"/>\n",
    "\n",
    "a) For the sequence <b> abba</b> , compute the probability $P(abba)$ of the observation using the <b> forward </b> procedure\n",
    "\n",
    "HINT: fill this HMM diagram \n",
    "<img src=\"hmm1_empty.png\" alt=\"hmm diagram\" width=\"75%\"/>\n",
    "hmm1_empty\n",
    "\n",
    "|  t\t| $\\alpha$N  \t| $\\alpha$V \t|\n",
    "|-\t|-\t|-\t|\n",
    "| 1\t| 0.5 \t| 0.5 \t|\n",
    "| 2\t|  \t|  \t|\n",
    "| 3 \t|  \t|  \t|\n",
    "| 4 \t|  \t|  \t|\n",
    "| 5 \t|  \t|  \t|\n",
    "\n",
    "$P(abba) = ?$ \\\n",
    "\n",
    "Hint (Lecture notes, slide 20): \\\n",
    "<img src=\"forwardprocedure.png\" alt=\"forward procedure\" width=\"50%\"/>"
   ]
  },
  {
   "cell_type": "markdown",
   "id": "7ef52856",
   "metadata": {},
   "source": [
    "b) For the sequence <b> abba</b> , compute the probability $P(abba)$ of the observation using the <b> backward </b> procedure\n",
    "\n",
    "|  t\t| $\\beta$N  \t| $\\beta$V \t|\n",
    "|-\t|-\t|-\t|\n",
    "| 1\t| 1.0 \t| 1.0 \t|\n",
    "| 2\t|  \t|  \t|\n",
    "| 3 \t|  \t|  \t|\n",
    "| 4 \t|  \t|  \t|\n",
    "| 5 \t|  \t|  \t|\n",
    "\n",
    "$P(abba) = ?$ \\\n",
    "\n",
    "Hint (Lecture notes, slide 21): \\\n",
    "<img src=\"backwardprocedure.png\" alt=\"backward procedure\" width=\"50%\"/>"
   ]
  },
  {
   "cell_type": "markdown",
   "id": "3ec8bed4",
   "metadata": {},
   "source": [
    "## <span style=\"color:red\"> Problem 4.2 HMM: Best state sequence </span>\n",
    "For the HMM given in 4.1, what is the sequence of states that marks the path with the highest probability\n",
    "for the input sequence abba, and what is the probability?\n",
    "\n",
    "<b> HINT: Viterbi algorithm </b> \\\n",
    "Lecture Notes, slide 24: \\\n",
    "<img src=\"viterbialgoritm.png\" alt=\"viterbi algoritm\" width=\"50%\"/>"
   ]
  },
  {
   "cell_type": "markdown",
   "id": "5fcd8b41",
   "metadata": {},
   "source": [
    "## <span style=\"color:red\"> HMM: Training </span>\n",
    "\n",
    "In the lecture, we trained an HMM using sequence ababb. We arrived at the following:\n",
    "\n",
    "<b>Iteration 2 (HMM2): </b>\n",
    "\n",
    "<img src=\"hmm2.png\" alt=\"hmm2\" width=\"50%\"/>"
   ]
  },
  {
   "cell_type": "markdown",
   "id": "e62563c0",
   "metadata": {},
   "source": [
    "## Training a Markov Chain\n",
    "\n",
    "Lecture Notes, slide 33-34: \\\n",
    "<img src=\"training_1.png\" alt=\"training_1\" width=\"75%\"/>\n",
    "<img src=\"training_2.png\" alt=\"training_2\" width=\"75%\"/>"
   ]
  },
  {
   "cell_type": "markdown",
   "id": "96ba6ebb",
   "metadata": {},
   "source": [
    "a) Train the third iteration (HMM3)."
   ]
  },
  {
   "cell_type": "markdown",
   "id": "f22f4e25",
   "metadata": {},
   "source": [
    "b) Compute the entropy of the HMM in Iteration 2."
   ]
  },
  {
   "cell_type": "markdown",
   "id": "c58ae9a9",
   "metadata": {},
   "source": [
    "# Good luck with your assignment :-)"
   ]
  }
 ],
 "metadata": {
  "kernelspec": {
   "display_name": "Python 3",
   "language": "python",
   "name": "python3"
  },
  "language_info": {
   "codemirror_mode": {
    "name": "ipython",
    "version": 3
   },
   "file_extension": ".py",
   "mimetype": "text/x-python",
   "name": "python",
   "nbconvert_exporter": "python",
   "pygments_lexer": "ipython3",
   "version": "3.8.8"
  }
 },
 "nbformat": 4,
 "nbformat_minor": 5
}
