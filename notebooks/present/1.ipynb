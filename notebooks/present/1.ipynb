{
 "cells": [
  {
   "cell_type": "markdown",
   "id": "32a350b8",
   "metadata": {},
   "source": [
    "# Welcome to the <span style=\"color:blue\">Statistical Methods of Language Technologyb SoSe21</span> course\n",
    "###  Dr. Seid Muhie Yimam\n",
    "   * Email: yimam@informatik.uni-hamburg.de\n",
    "   * Office: Informatikum, F-415\n",
    "  \n",
    "###  Dr. Özge Alaçam\n",
    "   * Email: alacam@informatik.uni-hamburg.de\n",
    "   * Office: Informatikum, F-435"
   ]
  },
  {
   "cell_type": "markdown",
   "id": "8b1d668c",
   "metadata": {},
   "source": [
    "## Practice Class\n",
    "When:\\\n",
    "Wednesday 16:15 - 17:45  \\\n",
    "Monday 14:15 - 15:45 \n",
    "\n",
    "### Exercises\n",
    "Exercises should be submitted before the deadline specified in the moodle.\n",
    "\n",
    "\n",
    "To pass the class: you have to score 50% of the points\n",
    "\n",
    "You can use any programming language, or just pen & pencil to solve most of the exercises\n",
    "\n",
    "\n",
    "\n"
   ]
  },
  {
   "cell_type": "markdown",
   "id": "98d26cae",
   "metadata": {},
   "source": [
    "## Exercise Outline\n",
    "\n",
    "| Week       | Topic  | When|\n",
    "| ------------- |:-----| :-----|\n",
    "| 1      | Introduction, and exercise on Finite State Automata, Regular Expressions & Context-Free Grammar   | Apr. 14 (or 19)|\n",
    "| 2      | Finite state Automata and Patricia Trie  | Apr. 21 (or 26)|\n",
    "| 3 |  Language Model | Apr. 28 (or May 3) |\n",
    "| 4 | Hidden Markov Model | May 5 (or 10)|\n",
    "| 5 |  POS with HMM and Conditional random fields | May 12 (or 17)|\n",
    "| 6 | Rule based chunking and Earley Parsing  | May 19 (or 31) |\n",
    "| 7 | Context Free Grammar (CFG) and Probablistic CFG  | May 26 (or Jun 7) |\n",
    "| 8 | Latent Semantic Analysis and Latent Dirichlet Allocation |  Jun 2 (or 14)|\n",
    "| 9 | Page Rank, markov cluster algorithm, TF-IDF |  Jun 9 (or 21)|\n",
    "| 10 | Machine Translation  |  Jun 16 (or 28) |\n",
    "| 11 | word sense disambiguation  |  Jun 23 (or 5) |\n",
    "| 12 | TBD |  Jun 30 |\n",
    "| 13 | Discussion |  Jul 7 |\n",
    "\n",
    "*→ please see Moodle for the final dates; only those are binding.*"
   ]
  },
  {
   "cell_type": "markdown",
   "id": "fa960775",
   "metadata": {},
   "source": [
    "## Topic of this week;\n",
    "In this first practice class, we are going to focus on three main topics, which will be useful to complete 1st assignment;\n",
    "* Regular Expressions\n",
    "* Finite State Automata\n",
    "* Context-free grammar"
   ]
  },
  {
   "cell_type": "markdown",
   "id": "91c87c83",
   "metadata": {},
   "source": [
    "## Deadline: Apr 21/26\n",
    "\n",
    "___"
   ]
  },
  {
   "cell_type": "markdown",
   "id": "e04fa566",
   "metadata": {},
   "source": [
    "# Regular Expressions - recaps\n",
    "\n",
    "A regular expression is ”instruction” given to a function on what and how to match or replace a set of strings.\n",
    "\n",
    "Cheatsheet on RegEx: http://www.pyregex.com/"
   ]
  },
  {
   "cell_type": "code",
   "execution_count": 1,
   "id": "312bfb93",
   "metadata": {},
   "outputs": [],
   "source": [
    "import re"
   ]
  },
  {
   "cell_type": "markdown",
   "id": "4e0fc419",
   "metadata": {},
   "source": [
    "## Basic syntax of regular expressions"
   ]
  },
  {
   "cell_type": "markdown",
   "id": "11031d02",
   "metadata": {},
   "source": [
    "### RegEx Special Characters [ ], - , ^ , ?"
   ]
  },
  {
   "cell_type": "markdown",
   "id": "1c3cef44",
   "metadata": {},
   "source": [
    "#### Brackets [] disjunction of characters"
   ]
  },
  {
   "cell_type": "code",
   "execution_count": 2,
   "id": "c63f33fd",
   "metadata": {},
   "outputs": [
    {
     "data": {
      "text/plain": [
       "['Woodchuck', 'woodchuck']"
      ]
     },
     "execution_count": 2,
     "metadata": {},
     "output_type": "execute_result"
    }
   ],
   "source": [
    "re.findall('[wW]oodchuck','Woodchuck woodchuck')"
   ]
  },
  {
   "cell_type": "code",
   "execution_count": 3,
   "id": "703c672f",
   "metadata": {},
   "outputs": [
    {
     "data": {
      "text/plain": [
       "['a', 'b', 'c']"
      ]
     },
     "execution_count": 3,
     "metadata": {},
     "output_type": "execute_result"
    }
   ],
   "source": [
    "re.findall('[abc]','a b c d')"
   ]
  },
  {
   "cell_type": "code",
   "execution_count": 4,
   "id": "a24c4dda",
   "metadata": {},
   "outputs": [
    {
     "data": {
      "text/plain": [
       "['1', '2', '9']"
      ]
     },
     "execution_count": 4,
     "metadata": {},
     "output_type": "execute_result"
    }
   ],
   "source": [
    "re.findall('[1234567890]','a 1 2 9')"
   ]
  },
  {
   "cell_type": "markdown",
   "id": "f08b0b3f",
   "metadata": {},
   "source": [
    "#### Dash - range of symbols"
   ]
  },
  {
   "cell_type": "code",
   "execution_count": 5,
   "id": "e1b8d944",
   "metadata": {},
   "outputs": [
    {
     "data": {
      "text/plain": [
       "['W', 'D', 'C']"
      ]
     },
     "execution_count": 5,
     "metadata": {},
     "output_type": "execute_result"
    }
   ],
   "source": [
    "re.findall('[A-Z]','Washnigton D.C.')"
   ]
  },
  {
   "cell_type": "code",
   "execution_count": 6,
   "id": "dfcb4fd5",
   "metadata": {},
   "outputs": [
    {
     "data": {
      "text/plain": [
       "['a', 's', 'h', 'n', 'i', 'g', 't', 'o', 'n']"
      ]
     },
     "execution_count": 6,
     "metadata": {},
     "output_type": "execute_result"
    }
   ],
   "source": [
    "re.findall('[a-z]','Washnigton D.C.')"
   ]
  },
  {
   "cell_type": "code",
   "execution_count": 7,
   "id": "7d9ea90c",
   "metadata": {},
   "outputs": [
    {
     "data": {
      "text/plain": [
       "['1', '1']"
      ]
     },
     "execution_count": 7,
     "metadata": {},
     "output_type": "execute_result"
    }
   ],
   "source": [
    "re.findall('[0-9]','11 years old')"
   ]
  },
  {
   "cell_type": "markdown",
   "id": "5d76352a",
   "metadata": {},
   "source": [
    "#### caret ^ - negation"
   ]
  },
  {
   "cell_type": "code",
   "execution_count": 8,
   "id": "9be38879",
   "metadata": {},
   "outputs": [
    {
     "data": {
      "text/plain": [
       "['a', 's', 'h', 'n', 'i', 'g', 't', 'o', 'n', ' ', '.', '.']"
      ]
     },
     "execution_count": 8,
     "metadata": {},
     "output_type": "execute_result"
    }
   ],
   "source": [
    "re.findall('[^A-Z]','Washnigton D.C.')"
   ]
  },
  {
   "cell_type": "code",
   "execution_count": 9,
   "id": "568adb93",
   "metadata": {},
   "outputs": [
    {
     "data": {
      "text/plain": [
       "['W', 'a', 'h', 'n', 'i', 'g', 't', 'o', 'n', ' ', 'D', '.', 'C', '.']"
      ]
     },
     "execution_count": 9,
     "metadata": {},
     "output_type": "execute_result"
    }
   ],
   "source": [
    "re.findall('[^Ss]','Washnigton D.C.')"
   ]
  },
  {
   "cell_type": "markdown",
   "id": "6b0d57c1",
   "metadata": {},
   "source": [
    "### RegEx Quantifiers"
   ]
  },
  {
   "cell_type": "markdown",
   "id": "031c8920",
   "metadata": {},
   "source": [
    "#### question mark ? optionality of the previous expression"
   ]
  },
  {
   "cell_type": "code",
   "execution_count": 10,
   "id": "95dcbf3d",
   "metadata": {},
   "outputs": [
    {
     "data": {
      "text/plain": [
       "['colour', 'color']"
      ]
     },
     "execution_count": 10,
     "metadata": {},
     "output_type": "execute_result"
    }
   ],
   "source": [
    "re.findall('colou?r','colour color')"
   ]
  },
  {
   "cell_type": "markdown",
   "id": "30bd6fc5",
   "metadata": {},
   "source": [
    "<b> \\* </b> 0 or more of a previous character \\\n",
    "<b> \\+ </b> 1 or more of a previous character"
   ]
  },
  {
   "cell_type": "code",
   "execution_count": 11,
   "id": "91cd55b4",
   "metadata": {},
   "outputs": [
    {
     "data": {
      "text/plain": [
       "['h!', 'oh!', 'ooh!', 'ooooh!']"
      ]
     },
     "execution_count": 11,
     "metadata": {},
     "output_type": "execute_result"
    }
   ],
   "source": [
    "re.findall('o*h!','h! oh!, ooh!, ooooh!')"
   ]
  },
  {
   "cell_type": "code",
   "execution_count": null,
   "id": "5b4ec0a8",
   "metadata": {},
   "outputs": [],
   "source": [
    "re.findall('o+h!','h! oh!, ooh!, ooooh!')"
   ]
  },
  {
   "cell_type": "code",
   "execution_count": null,
   "id": "187e5df0",
   "metadata": {},
   "outputs": [],
   "source": [
    "re.findall('wo+w','ww wow wooow wooooooow!')"
   ]
  },
  {
   "cell_type": "markdown",
   "id": "b3c500d8",
   "metadata": {},
   "source": [
    "### RegEx Special Sequences"
   ]
  },
  {
   "cell_type": "markdown",
   "id": "6f1099ec",
   "metadata": {},
   "source": [
    "<b>\\d </b> - any decimal digit \\\n",
    "<b> \\D </b> - not a decimal digit, this is the opposite of <b>\\d</b>"
   ]
  },
  {
   "cell_type": "code",
   "execution_count": null,
   "id": "b49b8107",
   "metadata": {},
   "outputs": [],
   "source": [
    "re.findall('\\d','11 years old')"
   ]
  },
  {
   "cell_type": "code",
   "execution_count": null,
   "id": "ef66c800",
   "metadata": {},
   "outputs": [],
   "source": [
    "re.findall('\\D','11 years old')"
   ]
  },
  {
   "cell_type": "markdown",
   "id": "7c72b04b",
   "metadata": {},
   "source": [
    "<b> \\s </b>- whitespace characters (which includes [ \\t\\n\\r\\f\\v]) \\\n",
    "<b> \\S </b> - not a whitespace characters, this is the opposite of \\s"
   ]
  },
  {
   "cell_type": "code",
   "execution_count": null,
   "id": "951d3224",
   "metadata": {},
   "outputs": [],
   "source": [
    "re.findall('\\s' ,'11 years old \\t Older than you!')"
   ]
  },
  {
   "cell_type": "code",
   "execution_count": null,
   "id": "225b9008",
   "metadata": {},
   "outputs": [],
   "source": [
    "re.findall('\\S' ,'11 years old \\t Older than you!')"
   ]
  },
  {
   "cell_type": "markdown",
   "id": "34bc1bd3",
   "metadata": {},
   "source": [
    "<b> \\w </b>- Unicode word characters, numbers and the underscore \\\n",
    "<b> \\W </b>- opposite to \\w"
   ]
  },
  {
   "cell_type": "code",
   "execution_count": null,
   "id": "2fb8fa42",
   "metadata": {},
   "outputs": [],
   "source": [
    "re.findall('\\w' ,'11 years old!')"
   ]
  },
  {
   "cell_type": "code",
   "execution_count": null,
   "id": "fef152e7",
   "metadata": {},
   "outputs": [],
   "source": [
    "re.findall('\\W' ,'11 years old!')"
   ]
  },
  {
   "cell_type": "markdown",
   "id": "e619d920",
   "metadata": {},
   "source": [
    "## Basic operators of regular expressions"
   ]
  },
  {
   "cell_type": "markdown",
   "id": "1dea4a4a",
   "metadata": {},
   "source": [
    "`re.match(pattern, string):` \n",
    "\n",
    "Looks for the first occurence of the pattern and return indexes of matched characters if any\n",
    "\n",
    "\n",
    "*    **pattern** - what to find\n",
    "*    **string** - where to find"
   ]
  },
  {
   "cell_type": "code",
   "execution_count": null,
   "id": "ab9d020b",
   "metadata": {},
   "outputs": [],
   "source": [
    "result = re.match('AV', 'AV Analytics Vidhya AV')\n",
    "print (result)"
   ]
  },
  {
   "cell_type": "code",
   "execution_count": null,
   "id": "0a6fe7b6",
   "metadata": {},
   "outputs": [],
   "source": [
    "result.group(0)"
   ]
  },
  {
   "cell_type": "code",
   "execution_count": null,
   "id": "6bb0e95d",
   "metadata": {},
   "outputs": [],
   "source": [
    "result.start(), result.end()"
   ]
  },
  {
   "cell_type": "markdown",
   "id": "17daad5f",
   "metadata": {},
   "source": [
    "`re.search(pattern, string)`: \n",
    "\n",
    "Looks for the first occurence of the pattern and return matched string"
   ]
  },
  {
   "cell_type": "code",
   "execution_count": null,
   "id": "515b3189",
   "metadata": {},
   "outputs": [],
   "source": [
    "result = re.search('AV', 'AV Analytics Vidhya AV')\n",
    "print (result)"
   ]
  },
  {
   "cell_type": "code",
   "execution_count": null,
   "id": "1d8e2035",
   "metadata": {},
   "outputs": [],
   "source": [
    "result.start(), result.end()"
   ]
  },
  {
   "cell_type": "code",
   "execution_count": null,
   "id": "579b590b",
   "metadata": {},
   "outputs": [],
   "source": [
    "result.group(0)"
   ]
  },
  {
   "cell_type": "markdown",
   "id": "29954900",
   "metadata": {},
   "source": [
    "**re.match()** searches **only in the first line of the string** and return match object if found, else return none."
   ]
  },
  {
   "cell_type": "code",
   "execution_count": null,
   "id": "17133f1b",
   "metadata": {},
   "outputs": [],
   "source": [
    "Substring ='string'\n",
    "String ='''We are learning regex with geeksforgeeks  \n",
    "         regex is very useful for string matching. \n",
    "          It is fast too.'''"
   ]
  },
  {
   "cell_type": "code",
   "execution_count": null,
   "id": "63ccf5a8",
   "metadata": {},
   "outputs": [],
   "source": [
    "# Use of re.match() Method \n",
    "print(re.match(Substring, String, re.IGNORECASE)) "
   ]
  },
  {
   "cell_type": "code",
   "execution_count": null,
   "id": "d54f456a",
   "metadata": {},
   "outputs": [],
   "source": [
    "# Use of re.search() Method \n",
    "print(re.search(Substring, String, re.IGNORECASE)) "
   ]
  },
  {
   "cell_type": "markdown",
   "id": "0928bc37",
   "metadata": {},
   "source": [
    "`re.findall(pattern, string):`\n",
    "\n",
    "Looks for all occurences of the pattern and return the list of matches"
   ]
  },
  {
   "cell_type": "code",
   "execution_count": null,
   "id": "e32afb28",
   "metadata": {},
   "outputs": [],
   "source": [
    "result = re.findall('AV', 'AV Analytics Vidhya AV')\n",
    "print (result)"
   ]
  },
  {
   "cell_type": "markdown",
   "id": "363735ef",
   "metadata": {},
   "source": [
    "`re.split(pattern, string, [maxsplit=0]):`\n",
    "\n",
    "Split the string by the pattern no more than maxsplit time or as many time as possible if maxsplit equals 0"
   ]
  },
  {
   "cell_type": "code",
   "execution_count": null,
   "id": "4bd510d2",
   "metadata": {},
   "outputs": [],
   "source": [
    "result = re.split(',', 'Hello, my dear, hello!')\n",
    "print (result)"
   ]
  },
  {
   "cell_type": "code",
   "execution_count": null,
   "id": "a0aad3ad",
   "metadata": {},
   "outputs": [],
   "source": [
    "result = re.split(',', 'Hello, my dear, hello!', maxsplit = 1)\n",
    "print (result)"
   ]
  },
  {
   "cell_type": "markdown",
   "id": "0cca78e0",
   "metadata": {},
   "source": [
    "`re.sub(pattern, repl, string):`\n",
    "\n",
    "\n",
    "Looks trhough the *string*, find the *pattern* and change it with the *repl* pattern"
   ]
  },
  {
   "cell_type": "code",
   "execution_count": null,
   "id": "5014358e",
   "metadata": {},
   "outputs": [],
   "source": [
    "#Can be useful in depersonilizing text data\n",
    "sample_text = \"Her number is +71231231212, go find and kill her!!!\"\n",
    "re.sub('\\+\\d+', 'phone_number', sample_text)"
   ]
  },
  {
   "cell_type": "code",
   "execution_count": null,
   "id": "9369d803",
   "metadata": {},
   "outputs": [],
   "source": [
    "text_review = \"\"\"https://www.fakereviewsite.com Can’t do sugar.  \n",
    "                Have tried scores of SF Syrups.  NONE of them can touch the excellence of this product.<br /><br />\n",
    "                Thick, delicious.  Perfect.  3 ingredients: Water, Maltitol, Natural Maple Flavor.  PERIOD.  No chemicals.  \n",
    "                No garbage.<br /><br/> Unbelievably delicious…<br /><br /> Can you tell I like it? 🙂\"\"\""
   ]
  },
  {
   "cell_type": "code",
   "execution_count": null,
   "id": "0020df40",
   "metadata": {},
   "outputs": [],
   "source": [
    "from bs4 import BeautifulSoup\n",
    "text_review = BeautifulSoup(text_review, 'lxml').get_text()"
   ]
  },
  {
   "cell_type": "code",
   "execution_count": null,
   "id": "4ca86b03",
   "metadata": {},
   "outputs": [],
   "source": [
    "text_review"
   ]
  },
  {
   "cell_type": "code",
   "execution_count": null,
   "id": "9f235bb0",
   "metadata": {},
   "outputs": [],
   "source": [
    "text_review_no_url = re.sub(\"https\\S+\", \"url\", text_review)\n",
    "text_review_no_url"
   ]
  },
  {
   "cell_type": "code",
   "execution_count": null,
   "id": "4da02cf5",
   "metadata": {},
   "outputs": [],
   "source": [
    "text_review_no_whitespaces = re.sub(\"\\s+\", \" \", text_review_no_url)\n",
    "text_review_no_whitespaces"
   ]
  },
  {
   "cell_type": "code",
   "execution_count": null,
   "id": "7e00580e",
   "metadata": {},
   "outputs": [],
   "source": [
    "text_review_no_numbers = re.sub(\"\\d+\", \"number\", text_review_no_whitespaces)\n",
    "text_review_no_numbers"
   ]
  },
  {
   "cell_type": "code",
   "execution_count": null,
   "id": "80fb48d3",
   "metadata": {},
   "outputs": [],
   "source": []
  },
  {
   "cell_type": "markdown",
   "id": "8dc4d778",
   "metadata": {},
   "source": [
    "# Finite State Automata"
   ]
  },
  {
   "cell_type": "code",
   "execution_count": null,
   "id": "cb9adbb7",
   "metadata": {},
   "outputs": [],
   "source": [
    "!pip install Graphviz"
   ]
  },
  {
   "cell_type": "code",
   "execution_count": null,
   "id": "b002b0f0",
   "metadata": {},
   "outputs": [],
   "source": [
    "from graphviz import Digraph\n",
    "dot = Digraph()\n",
    "# Add nodes 1 and 2\n",
    "dot.node('1')\n",
    "dot.node('2')\n",
    "\n",
    "# Add edge between 1 and 2\n",
    "dot.edges(['12'])\n",
    "# Visualize the graph\n",
    "dot"
   ]
  },
  {
   "cell_type": "code",
   "execution_count": null,
   "id": "7e95080d",
   "metadata": {},
   "outputs": [],
   "source": [
    "dot = Digraph()\n",
    "\n",
    "# Add nodes\n",
    "dot.node('1')\n",
    "dot.node('3')\n",
    "dot.node('2')\n",
    "dot.node('5')\n",
    "\n",
    "# Add edges\n",
    "dot.edges(['11','12','21', '13', '35','15'])\n",
    "\n",
    "# Visualize the graph\n",
    "dot"
   ]
  },
  {
   "cell_type": "code",
   "execution_count": null,
   "id": "09ebf885",
   "metadata": {},
   "outputs": [],
   "source": [
    "from graphviz import Graph\n",
    "dot = Digraph()\n",
    "dot.node('1','1')\n",
    "dot.node('2','2')\n",
    "dot.edge('1','2', label=\"link\")\n",
    "dot"
   ]
  },
  {
   "cell_type": "markdown",
   "id": "0e7a4a9b",
   "metadata": {},
   "source": [
    "# <span style=\"color:red\"> In class Exercises </span>"
   ]
  },
  {
   "cell_type": "markdown",
   "id": "183f3ba8",
   "metadata": {},
   "source": [
    "## <span style=\"color:red\"> Problem 1.1 FSA </span>\n",
    " a) define an FSA that accepts the following language: {${a^nb^2c^m |n,m \\geq 0}$} (see e.g. http://www.webgraphviz.com/, please use RANKDIR=\"LR\") \\\n",
    "b) note down the corresponding left-linear grammar \\\n",
    "c) how would you program this FSA? How general is this scheme?"
   ]
  },
  {
   "cell_type": "markdown",
   "id": "6b7451b2",
   "metadata": {},
   "source": [
    "## Your answer here: "
   ]
  },
  {
   "cell_type": "markdown",
   "id": "467e7897",
   "metadata": {},
   "source": []
  },
  {
   "cell_type": "markdown",
   "id": "465fac18",
   "metadata": {},
   "source": [
    "## <span style=\"color:red\"> Problem 1.2 Regexp Search </span>\n",
    "a) define an FSA for the search pattern `(er)+b` \\\n",
    "b) run this FSA on the following string, at this recording the set of current states. \\\n",
    "Output: offsets of all pattern matches: <b> “vererben oder erbeben?” </b>"
   ]
  },
  {
   "cell_type": "markdown",
   "id": "4ae7c2d7",
   "metadata": {},
   "source": [
    "## Your answer here: "
   ]
  },
  {
   "cell_type": "code",
   "execution_count": null,
   "id": "4faf7af3",
   "metadata": {},
   "outputs": [],
   "source": []
  },
  {
   "cell_type": "markdown",
   "id": "7c4452a7",
   "metadata": {},
   "source": [
    "## Simple Context Free Grammar\n",
    "## Automatically Building Syntax Tree with NLTK or SPACY\n",
    "A chapter from Natural Language Processing with Python, by Steven Bird, Ewan Klein and Edward Loper. \\\n",
    "Chapter 8. Analyzing Sentence Structure: https://www.nltk.org/book/ch08.html"
   ]
  },
  {
   "cell_type": "code",
   "execution_count": null,
   "id": "4472356b",
   "metadata": {},
   "outputs": [],
   "source": [
    "!pip3 install nltk"
   ]
  },
  {
   "cell_type": "code",
   "execution_count": null,
   "id": "db5f4f1c",
   "metadata": {},
   "outputs": [],
   "source": [
    "import nltk\n",
    "nltk.download('gutenberg')\n",
    "nltk.download('genesis')"
   ]
  },
  {
   "cell_type": "code",
   "execution_count": null,
   "id": "6113ee4b",
   "metadata": {},
   "outputs": [],
   "source": [
    "from nltk import CFG\n",
    "\n",
    "groucho_grammar = nltk.CFG.fromstring(\"\"\"\n",
    "    S -> NP VP\n",
    "    PP -> P NP\n",
    "    NP -> Det N | Det N PP | 'I'\n",
    "    VP -> V NP | VP PP\n",
    "    Det -> 'an' | 'my'\n",
    "    N -> 'elephant' | 'pajamas'\n",
    "    V -> 'shot'\n",
    "    P -> 'in'\n",
    "    \"\"\")"
   ]
  },
  {
   "cell_type": "code",
   "execution_count": null,
   "id": "c3906427",
   "metadata": {},
   "outputs": [],
   "source": [
    "sent = ['I', 'shot', 'an', 'elephant', 'in', 'my', 'pajamas']\n",
    "parser = nltk.ChartParser(groucho_grammar)\n",
    "for tree in parser.parse(sent):\n",
    "    print(tree)"
   ]
  },
  {
   "cell_type": "code",
   "execution_count": null,
   "id": "b4de380c",
   "metadata": {},
   "outputs": [],
   "source": [
    "groucho_dep_grammar = nltk.DependencyGrammar.fromstring(\"\"\"\n",
    " 'shot' -> 'I' | 'elephant' | 'in'\n",
    " 'elephant' -> 'an' | 'in'\n",
    " 'in' -> 'pajamas'\n",
    " 'pajamas' -> 'my'\n",
    " \"\"\")\n",
    "print(groucho_dep_grammar)"
   ]
  },
  {
   "cell_type": "markdown",
   "id": "cd0363de",
   "metadata": {},
   "source": [
    "## <span style=\"color:red\"> Problem 1.3 Phrase Structure Grammar </span>\n",
    "Update the grammar given in the previous example with this new phrase structure grammar G; \\\n",
    "![phrase_structure_grammar](G_PSG.png)"
   ]
  },
  {
   "cell_type": "markdown",
   "id": "17deb051",
   "metadata": {},
   "source": [
    "## Your answer here:"
   ]
  },
  {
   "cell_type": "code",
   "execution_count": null,
   "id": "a70818b7",
   "metadata": {},
   "outputs": [],
   "source": []
  },
  {
   "cell_type": "markdown",
   "id": "9f65ad1c",
   "metadata": {},
   "source": [
    "a) Generate 3 sentences with at least 10 words using this grammar. "
   ]
  },
  {
   "cell_type": "markdown",
   "id": "63f32d0e",
   "metadata": {},
   "source": [
    "## Your answer here:"
   ]
  },
  {
   "cell_type": "code",
   "execution_count": null,
   "id": "8c3225e3",
   "metadata": {},
   "outputs": [],
   "source": []
  },
  {
   "cell_type": "markdown",
   "id": "65914f6f",
   "metadata": {},
   "source": [
    "b) give all derivations of the following sentence (you can check the syntax trees here: http://mshang.ca/syntree/): \\\n",
    "        <b> I saw the man with the telescope </b> "
   ]
  },
  {
   "cell_type": "markdown",
   "id": "ca840122",
   "metadata": {},
   "source": [
    "## Your answer here:"
   ]
  },
  {
   "cell_type": "code",
   "execution_count": null,
   "id": "3302ceaa",
   "metadata": {},
   "outputs": [],
   "source": []
  },
  {
   "cell_type": "markdown",
   "id": "536c6cfa",
   "metadata": {},
   "source": [
    "c) do the following sentences belong to $L(G)$? \n",
    "\n",
    "    1. the I lost my I\n",
    "    2. the elephant lost all pajamas "
   ]
  },
  {
   "cell_type": "markdown",
   "id": "0323c8fd",
   "metadata": {},
   "source": [
    "## Your answer here:"
   ]
  },
  {
   "cell_type": "code",
   "execution_count": null,
   "id": "3356bba8",
   "metadata": {},
   "outputs": [],
   "source": []
  },
  {
   "cell_type": "markdown",
   "id": "6848e9fd",
   "metadata": {},
   "source": [
    "d) Alter the grammar G to grammar H to allow for modifying adjectives by adding \\\n",
    "` A → bold | green | large`  \\\n",
    "What other rules have to be modified to accept sentences like: \\\n",
    "        <b> the green elephant saw a large telescope </b> \\\n",
    "Provide the transition function of H."
   ]
  },
  {
   "cell_type": "markdown",
   "id": "ad78776c",
   "metadata": {},
   "source": [
    "## Your answer here:"
   ]
  },
  {
   "cell_type": "code",
   "execution_count": null,
   "id": "eca7c298",
   "metadata": {},
   "outputs": [],
   "source": []
  },
  {
   "cell_type": "markdown",
   "id": "4f36adca",
   "metadata": {},
   "source": [
    "# Good luck with your submission :-)"
   ]
  }
 ],
 "metadata": {
  "kernelspec": {
   "display_name": "Python 3",
   "language": "python",
   "name": "python3"
  },
  "language_info": {
   "codemirror_mode": {
    "name": "ipython",
    "version": 3
   },
   "file_extension": ".py",
   "mimetype": "text/x-python",
   "name": "python",
   "nbconvert_exporter": "python",
   "pygments_lexer": "ipython3",
   "version": "3.8.8"
  }
 },
 "nbformat": 4,
 "nbformat_minor": 5
}
