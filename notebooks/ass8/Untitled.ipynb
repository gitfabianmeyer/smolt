{
 "cells": [
  {
   "cell_type": "markdown",
   "id": "69b944a3-92ac-42bd-80cc-336229cef188",
   "metadata": {},
   "source": [
    "# TODO\n",
    "## add interpretation"
   ]
  },
  {
   "cell_type": "code",
   "execution_count": 1,
   "id": "fb989f50-7a46-4ecf-bb3b-eb6d3338b171",
   "metadata": {},
   "outputs": [],
   "source": [
    "import os\n",
    "from sklearn.feature_extraction.text import CountVectorizer\n",
    "from sklearn.decomposition import TruncatedSVD\n",
    "from sklearn.preprocessing import Normalizer\n",
    "from sklearn.pipeline import make_pipeline\n",
    "import matplotlib.pyplot as plt"
   ]
  },
  {
   "cell_type": "code",
   "execution_count": 2,
   "id": "ae299dd6-c47b-4580-be55-74e10ae7295f",
   "metadata": {},
   "outputs": [],
   "source": [
    "label_dict = {\"e\": \"Skills and Hobbies\",\n",
    "              \"h\": \"Miscellaneous: Government Documents\",\n",
    "              \"k\":  \"Fiction: General\",\n",
    "              \"n\": \"Fiction: Adventure\",\n",
    "              \"p\": \"Fiction: Romance\"}"
   ]
  },
  {
   "cell_type": "code",
   "execution_count": 3,
   "id": "d64d77ec-d70e-470f-8a89-aa3796e69c7e",
   "metadata": {},
   "outputs": [],
   "source": [
    "def read(path):\n",
    "    corpus=[]\n",
    "    labels = []\n",
    "    for file in os.listdir(path):\n",
    "        filepath = os.path.join(path, file)\n",
    "        with open(filepath, 'r') as i:\n",
    "            # read content and remove newline char\n",
    "            s = i.read().replace(\"\\n\",\"\")\n",
    "            corpus.append(s)\n",
    "            labels.append(file[1])\n",
    "    print(f\"length corpus: {len(corpus)}\")\n",
    "    return corpus, labels"
   ]
  },
  {
   "cell_type": "markdown",
   "id": "8ae6b91f-c437-43cf-a1f6-a253a081b5f2",
   "metadata": {},
   "source": [
    "### a) Perform SVD with k = 2 on the training data and plot the first two dimensions of the latent document matrix U. Briefly describe what you observe.\n"
   ]
  },
  {
   "cell_type": "code",
   "execution_count": 14,
   "id": "8f0f7284-6870-469e-994b-c1393e242f34",
   "metadata": {},
   "outputs": [
    {
     "name": "stdout",
     "output_type": "stream",
     "text": [
      "length corpus: 95\n",
      "Explained variance ratio: [0.08325744 0.21933445]\n",
      "Singular values: [1849.29221369  468.82074881]\n",
      "Topic Doc 1: Skills and Hobbies\n",
      "Topic Doc 2: Skills and Hobbies\n"
     ]
    },
    {
     "data": {
      "image/png": "[encoded data removed]",
      "text/plain": [
       "<Figure size 432x288 with 1 Axes>"
      ]
     },
     "metadata": {
      "needs_background": "light"
     },
     "output_type": "display_data"
    }
   ],
   "source": [
    "X_train, y_train = read(\"./HW-10-data/training\")\n",
    "vectorizer = CountVectorizer(lowercase =True, stop_words=None, max_df=1.0, min_df=1)\n",
    "svd = TruncatedSVD(n_components=2,n_iter=50, random_state=42)\n",
    "normalizer = Normalizer(copy = False)\n",
    "\n",
    "lsa = make_pipeline(vectorizer,svd, normalizer)\n",
    "X_SVD = lsa.fit_transform(X_train)\n",
    "print(f\"Explained variance ratio: {svd.explained_variance_ratio_}\")\n",
    "print(f\"Singular values: {svd.singular_values_}\")\n",
    "X_SVD.shape\n",
    "fig, ax = plt.subplots()\n",
    "ax.plot(X_SVD[0], 'og', alpha=0.5, label='Train 1')\n",
    "ax.plot(X_SVD[1], 'ob', alpha=0.5, label='Train 2')\n",
    "ax.legend()\n",
    "print(f\"Topic Doc 1: {label_dict[y_train[0]]}\")\n",
    "print(f\"Topic Doc 2: {label_dict[y_train[1]]}\")"
   ]
  },
  {
   "cell_type": "markdown",
   "id": "8d46769b-2be7-43c4-bb41-f325a6ee54b5",
   "metadata": {},
   "source": [
    "The observable plot for the first two documents show a strong similarity for the SVD plot. "
   ]
  },
  {
   "cell_type": "markdown",
   "id": "456832fd-cb56-4cc2-befb-3e890a256de2",
   "metadata": {},
   "source": [
    "### Load the test data, transform the documents into the latent vector space of the training model from a) and plot the resulting data into the same figure as a) but make sure they are distinguishable.\n"
   ]
  },
  {
   "cell_type": "code",
   "execution_count": 15,
   "id": "59d1a115-63ba-493b-b37c-f8a76ea03a2f",
   "metadata": {},
   "outputs": [
    {
     "name": "stdout",
     "output_type": "stream",
     "text": [
      "length corpus: 50\n",
      "Topic Train 1: Skills and Hobbies\n",
      "Topic Train 2: Skills and Hobbies\n",
      "Topic Test 1: Skills and Hobbies\n",
      "Topic Test 2: Skills and Hobbies\n"
     ]
    },
    {
     "data": {
      "image/png": "[encoded data removed]",
      "text/plain": [
       "<Figure size 432x288 with 1 Axes>"
      ]
     },
     "metadata": {
      "needs_background": "light"
     },
     "output_type": "display_data"
    }
   ],
   "source": [
    "X_test, y_test = read(\"./HW-10-data/test\")\n",
    "X_SVD_test = lsa.transform(X_test)\n",
    "\n",
    "fig, ax = plt.subplots()\n",
    "ax.plot(X_SVD[0], 'og', alpha=0.5, label='Train 1')\n",
    "ax.plot(X_SVD[1], 'ob', alpha=0.5, label='Train 2')\n",
    "ax.plot(X_SVD_test[0], 'oy', alpha=0.5, label=\"Test 1\")\n",
    "ax.plot(X_SVD_test[1], 'or', alpha=0.5, label=\"Test 1\")\n",
    "ax.legend()\n",
    "\n",
    "print(f\"Topic Train 1: {label_dict[y_train[0]]}\")\n",
    "print(f\"Topic Train 2: {label_dict[y_train[1]]}\")\n",
    "print(f\"Topic Test 1: {label_dict[y_test[0]]}\")\n",
    "print(f\"Topic Test 2: {label_dict[y_test[1]]}\")"
   ]
  },
  {
   "cell_type": "markdown",
   "id": "e9400e85-1986-4a26-a688-c528b726cc23",
   "metadata": {},
   "source": [
    "Additional to the two plots of the first part, which are very similar, we observe a slightly difference with respect to the two dimension. This can be interpreted as difference of the documents, even though they rely to the same label as the train documents."
   ]
  },
  {
   "cell_type": "markdown",
   "id": "8bf42b95-3bfb-4d8b-bcd7-32c1c080a602",
   "metadata": {},
   "source": [
    "### Remove stopwords using a stopword list (this list can be found in the file stopwords.txt). Run again SVD and plot the training and test documents. Briefly describe differences to the plot in 1b)"
   ]
  },
  {
   "cell_type": "code",
   "execution_count": 6,
   "id": "f51e5c95-08ce-4893-a140-f4de0ca27f3b",
   "metadata": {},
   "outputs": [],
   "source": [
    "def read_stopwords():\n",
    "    p = \"./HW-10-data/stopwords.txt\"\n",
    "    with open(p) as file:\n",
    "        return file.read().split(\"\\n\")\n",
    "stopwords = read_stopwords()"
   ]
  },
  {
   "cell_type": "code",
   "execution_count": 16,
   "id": "b98b690b-23d9-48e5-821c-a309b7e3bf34",
   "metadata": {},
   "outputs": [
    {
     "name": "stdout",
     "output_type": "stream",
     "text": [
      "length corpus: 95\n"
     ]
    },
    {
     "name": "stderr",
     "output_type": "stream",
     "text": [
      "C:\\Users\\fmeyer\\Anaconda3\\envs\\smolt\\lib\\site-packages\\sklearn\\feature_extraction\\text.py:388: UserWarning: Your stop_words may be inconsistent with your preprocessing. Tokenizing the stop words generated tokens ['aren', 'couldn', 'didn', 'doesn', 'don', 'hadn', 'hasn', 'haven', 'isn', 'll', 'mustn', 're', 'shan', 'shouldn', 've', 'wasn', 'weren', 'won', 'wouldn'] not in stop_words.\n",
      "  warnings.warn('Your stop_words may be inconsistent with '\n"
     ]
    },
    {
     "name": "stdout",
     "output_type": "stream",
     "text": [
      "Topic Doc 1: Skills and Hobbies\n",
      "Topic Doc 2: Skills and Hobbies\n"
     ]
    },
    {
     "data": {
      "image/png": "[encoded data removed]",
      "text/plain": [
       "<Figure size 432x288 with 1 Axes>"
      ]
     },
     "metadata": {
      "needs_background": "light"
     },
     "output_type": "display_data"
    }
   ],
   "source": [
    "X_train, y_train = read(\"./HW-10-data/training\")\n",
    "vectorizer2 = CountVectorizer(lowercase =True, stop_words=stopwords, max_df=1.0, min_df=1)\n",
    "svd2 = TruncatedSVD(n_components=2,n_iter=50, random_state=42)\n",
    "normalizer2 = Normalizer(copy = False)\n",
    "lsa2 = make_pipeline(vectorizer2,svd2, normalizer2)\n",
    "X_SVD2 = lsa2.fit_transform(X_train)\n",
    "X_SVD2.shape\n",
    "fig, ax = plt.subplots()\n",
    "ax.plot(X_SVD2[0], 'og', alpha=0.5, label='Train 1')\n",
    "ax.plot(X_SVD2[1], 'ob', alpha=0.5, label='Train 2')\n",
    "ax.legend()\n",
    "print(f\"Topic Doc 1: {label_dict[y_train[0]]}\")\n",
    "print(f\"Topic Doc 2: {label_dict[y_train[1]]}\")"
   ]
  },
  {
   "cell_type": "markdown",
   "id": "0885fc52-3a5e-4059-bb95-14c8fc4b8ef4",
   "metadata": {},
   "source": [
    "Removing stopwords leads to a slightly greater difference of the documents. This is not surprising, as we remove many similar words from both documents. The remaining words are \"rarer\" in general w.r.t. the language and thus less likely to occur in both documents, leading to greater differences."
   ]
  },
  {
   "cell_type": "code",
   "execution_count": 17,
   "id": "e8ec655e-9f21-4b5c-9133-4e6445730a0f",
   "metadata": {},
   "outputs": [
    {
     "name": "stdout",
     "output_type": "stream",
     "text": [
      "length corpus: 50\n",
      "Topic Train 1: Skills and Hobbies\n",
      "Topic Train 2: Skills and Hobbies\n",
      "Topic Test 1: Skills and Hobbies\n",
      "Topic Test 2: Skills and Hobbies\n"
     ]
    },
    {
     "data": {
      "image/png": "[encoded data removed]",
      "text/plain": [
       "<Figure size 432x288 with 1 Axes>"
      ]
     },
     "metadata": {
      "needs_background": "light"
     },
     "output_type": "display_data"
    }
   ],
   "source": [
    "X_test, y_test = read(\"./HW-10-data/test\")\n",
    "\n",
    "X_SVD_test2 = lsa2.transform(X_test)\n",
    "\n",
    "fig, ax = plt.subplots()\n",
    "ax.plot(X_SVD2[0], 'og', alpha=0.5, label='Train 1')\n",
    "ax.plot(X_SVD2[1], 'ob', alpha=0.5, label='Train 2')\n",
    "ax.plot(X_SVD_test2[0], 'oy', alpha=0.5, label=\"Test 1\")\n",
    "ax.plot(X_SVD_test2[1], 'or', alpha=0.5, label=\"Test 1\")\n",
    "ax.legend()\n",
    "\n",
    "print(f\"Topic Train 1: {label_dict[y_train[0]]}\")\n",
    "print(f\"Topic Train 2: {label_dict[y_train[1]]}\")\n",
    "print(f\"Topic Test 1: {label_dict[y_test[0]]}\")\n",
    "print(f\"Topic Test 2: {label_dict[y_test[1]]}\")"
   ]
  },
  {
   "cell_type": "markdown",
   "id": "74bbc33f-67d6-4f86-8122-d9ddd30e8479",
   "metadata": {},
   "source": [
    "Similar to the observations in the last subtask, the test docs diverge even more, for the same reasons as stated before"
   ]
  },
  {
   "cell_type": "markdown",
   "id": "0d820dcf-b790-4e84-a5a7-d6727673f84b",
   "metadata": {},
   "source": [
    "### 2) LDA  \n",
    "As I problems running GibbsLDA on my system, I used scikit learns implementation, which differs slightly as it uses variational interference instead of Gibbs sampling. This might lead to slightly different results, but in general should yield similar reasonable results"
   ]
  },
  {
   "cell_type": "code",
   "execution_count": 9,
   "id": "fa06532f-3c6a-4325-8466-2715aafa858b",
   "metadata": {},
   "outputs": [],
   "source": [
    "def get_n_most_likely_words(vocab, lda_model, n=100):\n",
    "    res =  {}\n",
    "    for i, topic in enumerate(lda_model.components_):\n",
    "        topic_dict = {}\n",
    "        # get position of n highest values\n",
    "        positions = topic.argsort()[-n:][::-1]\n",
    "        # get words for n highest positions\n",
    "        words = [vocab[i] for i in positions]\n",
    "        res[i] = words\n",
    "    return res\n",
    "        # use for evaluation\n",
    "        #for e, position in enumerate(positions):\n",
    "        #    # create in json format\n",
    "        #    topic_dict[e] = {words[e]: round(topic[position], 2)}\n",
    "            #print(f\"{e}: {words[e]}: {topic[position]}\")\n",
    "        #res[i] = topic_dict\n",
    "    #return res\n",
    "# TODO put results into dicts and merge them to get evolution of topics\n",
    "\n",
    "def get_compact(history):\n",
    "    res = {}\n",
    "    # for every run\n",
    "    for r, run in enumerate(history.keys()):\n",
    "        \n",
    "        # take each topic\n",
    "        for topic in history[run].keys():\n",
    "            try:\n",
    "                res[topic].append(history[run][topic])\n",
    "            except KeyError:\n",
    "                res[topic] = [history[run][topic]]\n",
    "    return res\n",
    "def calc_overlap(compact_history):\n",
    "    for topic in compact_history.keys():\n",
    "        print(f\"Topic {topic}:\")\n",
    "        for i in range(len(compact_history[topic])-1):\n",
    "            over = overlap(compact_history[topic][i], compact_history[topic][i+1])\n",
    "            print(f\"Overlap run {i} to run {i+1}: {over} ({over /len(compact_history[topic][i])} %)\")\n"
   ]
  },
  {
   "cell_type": "code",
   "execution_count": 10,
   "id": "973dde12-dd7d-4a34-8ca3-62911a0fcbf4",
   "metadata": {},
   "outputs": [
    {
     "name": "stdout",
     "output_type": "stream",
     "text": [
      "length corpus: 95\n",
      "{0: ['the', 'and', 'of', 'to', 'in', 'he', 'was', 'it', 'that', 'for', 'his', 'with', 'on', 'had', 'is', 'you', 'be', 'as', 'at', 'she', 'her', 'this', 'but', 'him', 'they', 'from', 'or', 'not', 'by', 'have', 'would', 'one', 'all', 'were', 'are', 'there', 'out', 'an', 'said', 'when', 'we', 'their', 'which', 'no', 'up', 'if', 'what', 'so', 'them', 'could', 'about', 'been', 'into', 'me', 'like', 'my', 'can', 'will', 'time', 'more', 'its', 'now', 'then', 'only', 'do', 'who', 'other', 'over', 'two', 'any', 'man', 'down', 'back', 'your', 'state', 'has', 'than', 'did', 'made', 'such', 'long', 'before', 'just', 'new', 'some', 'our', 'these', 'way', 'first', 'little', 'where', 'through', 'get', 'must', 'here', 'how', 'after', 'even', 'well', 'may']}\n"
     ]
    }
   ],
   "source": [
    "from sklearn.decomposition import LatentDirichletAllocation\n",
    "\n",
    "X_train, y_train = read(\"./HW-10-data/training\")\n",
    "stopwords = read_stopwords()\n",
    "vectorizer3 = CountVectorizer(lowercase =True, stop_words=None, max_df=1.0, min_df=1)\n",
    "X = vectorizer3.fit_transform(X_train)\n",
    "lda = LatentDirichletAllocation(n_components=1, random_state=42, n_jobs=-1)\n",
    "lda.fit(X)\n",
    "vocab = {v: k for k, v in vectorizer3.vocabulary_.items()}\n",
    "print(get_n_most_likely_words(vocab, lda, n=100))"
   ]
  },
  {
   "cell_type": "markdown",
   "id": "3263638a-2d2d-421e-9f12-106699a711d6",
   "metadata": {},
   "source": [
    "### First impression: Looks pretty reasonable, but obviously full of stopwords, thus not pretty useful as it is very \"generic\" for a language"
   ]
  },
  {
   "cell_type": "code",
   "execution_count": 23,
   "id": "9de5e38e-2e23-4aac-a848-0080cf463179",
   "metadata": {},
   "outputs": [
    {
     "name": "stdout",
     "output_type": "stream",
     "text": [
      "length corpus: 95\n",
      "NO TRAIN\n"
     ]
    },
    {
     "ename": "AttributeError",
     "evalue": "'LatentDirichletAllocation' object has no attribute 'components_'",
     "output_type": "error",
     "traceback": [
      "\u001b[1;31m---------------------------------------------------------------------------\u001b[0m",
      "\u001b[1;31mAttributeError\u001b[0m                            Traceback (most recent call last)",
      "\u001b[1;32m<ipython-input-23-7d8064ec9996>\u001b[0m in \u001b[0;36m<module>\u001b[1;34m\u001b[0m\n\u001b[0;32m      9\u001b[0m \u001b[1;33m\u001b[0m\u001b[0m\n\u001b[0;32m     10\u001b[0m \u001b[0mprint\u001b[0m\u001b[1;33m(\u001b[0m\u001b[1;34m\"NO TRAIN\"\u001b[0m\u001b[1;33m)\u001b[0m\u001b[1;33m\u001b[0m\u001b[1;33m\u001b[0m\u001b[0m\n\u001b[1;32m---> 11\u001b[1;33m \u001b[0mprint\u001b[0m\u001b[1;33m(\u001b[0m\u001b[0mlda\u001b[0m\u001b[1;33m.\u001b[0m\u001b[0mcomponents_\u001b[0m\u001b[1;33m)\u001b[0m\u001b[1;33m\u001b[0m\u001b[1;33m\u001b[0m\u001b[0m\n\u001b[0m\u001b[0;32m     12\u001b[0m \u001b[0mlda\u001b[0m\u001b[1;33m.\u001b[0m\u001b[0mfit\u001b[0m\u001b[1;33m(\u001b[0m\u001b[0mX\u001b[0m\u001b[1;33m)\u001b[0m\u001b[1;33m\u001b[0m\u001b[1;33m\u001b[0m\u001b[0m\n\u001b[0;32m     13\u001b[0m \u001b[0mprint\u001b[0m\u001b[1;33m(\u001b[0m\u001b[1;34m\"\\n\\n TRAIN\"\u001b[0m\u001b[1;33m)\u001b[0m\u001b[1;33m\u001b[0m\u001b[1;33m\u001b[0m\u001b[0m\n",
      "\u001b[1;31mAttributeError\u001b[0m: 'LatentDirichletAllocation' object has no attribute 'components_'"
     ]
    }
   ],
   "source": [
    "from sklearn.decomposition import LatentDirichletAllocation\n",
    "X_train, y_train = read(\"./HW-10-data/training\")\n",
    "stopwords = read_stopwords()\n",
    "vectorizer4 = CountVectorizer(lowercase =True, stop_words=None, max_df=1.0, min_df=1)\n",
    "X = vectorizer4.fit_transform(X_train)\n",
    "vocab = {v: k for k, v in vectorizer4.vocabulary_.items()}\n",
    "lda = LatentDirichletAllocation(n_components=5, random_state=42, n_jobs=-1, max_iter=20)\n",
    "results = {}\n",
    "\n",
    "print(\"NO TRAIN\")\n",
    "print(lda.components_)\n",
    "lda.fit(X)\n",
    "print(\"\\n\\n TRAIN\")\n",
    "print(lda.exp_dirichlet_component_)\n",
    "print(lda.components_)\n",
    "for i in range(1,10):\n",
    "    #print(f\"Running iter {i * lda.max_iter}\")\n",
    "    print(\"\\n\\n TRAIN\")\n",
    "    lda.fit(X)\n",
    "    print(lda.exp_dirichlet_component_)\n",
    "    print(lda.components_)\n",
    "    results[i] = get_n_most_likely_words(vocab, lda, 100)\n",
    "        \n",
    "compact = get_compact(results)       \n",
    "calc_overlap(compact)\n"
   ]
  },
  {
   "cell_type": "code",
   "execution_count": null,
   "id": "72b7be2c-f7cb-4672-bb5c-0b04642ea282",
   "metadata": {},
   "outputs": [],
   "source": [
    "from sklearn.decomposition import LatentDirichletAllocation\n",
    "X_train, y_train = read(\"./HW-10-data/training\")\n",
    "stopwords = read_stopwords()\n",
    "vectorizer4 = CountVectorizer(lowercase =True, stop_words=stopwords, max_df=1.0, min_df=1)\n",
    "X = vectorizer4.fit_transform(X_train)\n",
    "vocab = {v: k for k, v in vectorizer4.vocabulary_.items()}\n",
    "lda = LatentDirichletAllocation(n_components=5, random_state=42, n_jobs=-1, max_iter=20)\n",
    "results = {}\n",
    "for i in range(1,11):\n",
    "    print(f\"Running iter {i * lda.max_iter}\")\n",
    "    lda.fit(X)\n",
    "    results[i] = get_n_most_likely_words(vocab, lda, 100)\n",
    "        \n",
    "compact = get_compact(results)       \n",
    "calc_overlap(compact)\n"
   ]
  },
  {
   "cell_type": "markdown",
   "id": "c64f9cfa-97e2-450b-bdd6-9a68ba65fced",
   "metadata": {},
   "source": [
    "### transform data for gibbslda\n",
    "\n",
    "\n",
    "  3.2 Input Data Format\n",
    "\n",
    "  Both data for training/estimating the model and new data (i.e., previously \n",
    "  unseen data) have the same format as follows:\n",
    "\n",
    "    [M]\n",
    "    [document_1]\n",
    "    [document_2]\n",
    "    ...\n",
    "    [document_M]\n",
    "\n",
    "  in which the first line is the total number for documents [M]. Each line \n",
    "  after that is one document. [document_i] is the i^th document of the dataset \n",
    "  that consists of a list of Ni words/terms.\n",
    "\n",
    "    [document_i] = [word_i1] [word_i2] ... [word_iNi]\n",
    "\n",
    "  in which all [word_ij] (i=1..M, j=1..Ni) are text strings and they are \n",
    "  separated by the space character.\n"
   ]
  },
  {
   "cell_type": "code",
   "execution_count": 186,
   "id": "d680368e-ce0e-40a3-8a16-a27ac45eeb2f",
   "metadata": {},
   "outputs": [],
   "source": [
    "def remove_stopwords(document, stopwords):\n",
    "    split = document.split(\" \")\n",
    "    cleaned =  [word for word in split if word not in stopwords]\n",
    "    return \" \".join(cleaned)"
   ]
  },
  {
   "cell_type": "code",
   "execution_count": 185,
   "id": "473ec58f-d113-41fc-a5c1-4ab6eb64aa61",
   "metadata": {},
   "outputs": [
    {
     "name": "stdout",
     "output_type": "stream",
     "text": [
      "length corpus: 95\n",
      "length corpus: 50\n"
     ]
    }
   ],
   "source": [
    "train, _ = read(\"./HW-10-data/training\")\n",
    "test, _ = read(\"./HW-10-data/test\")\n",
    "\n",
    "new_train = []\n",
    "new_test = []\n",
    "for doc in train:\n",
    "    new_train.append(remove_stopwords(doc, stopwords))\n",
    "for doc in test:\n",
    "    new_test.append(remove_stopwords(doc, stopwords))\n",
    "\n",
    "with open(\"lda-input-train.txt\", 'w') as file:\n",
    "    file.write(str(len(train)) + \"\\n\")\n",
    "    for doc in train:\n",
    "        file.write(doc + \"\\n\")\n",
    "        \n",
    "with open(\"lda-input-train-no-stop.txt\", 'w') as file:\n",
    "    file.write(str(len(new_train)) + \"\\n\")\n",
    "    for doc in new_train:\n",
    "        file.write(doc + \"\\n\")\n",
    "        \n",
    "with open(\"lda-input-test.txt\", 'w') as file:\n",
    "    file.write(str(len(test)) + \"\\n\")\n",
    "    for doc in test:\n",
    "        file.write(doc + \"\\n\")\n",
    "with open(\"lda-input-test-no-stop.txt\", 'w') as file:\n",
    "    file.write(str(len(new_test)) + \"\\n\")\n",
    "    for doc in new_test:\n",
    "        file.write(doc + \"\\n\")"
   ]
  },
  {
   "cell_type": "markdown",
   "id": "5e2d9f3f-6278-437b-90f2-b204afe393c9",
   "metadata": {},
   "source": [
    "train a model from scratch: GibbsLDA++-0.2/src/lda -est -ntopics 1 -dfile lda-input-train.txt -twords 30 -niters 1000 -dir ./b"
   ]
  },
  {
   "cell_type": "markdown",
   "id": "038ecef3-0756-4ddb-9ac3-32115f03b6d4",
   "metadata": {},
   "source": [
    "twords:  \n",
    "Topic 0th:\n",
    "\t.   0.052836\n",
    "\t,   0.050823\n",
    "\tthe   0.049905\n",
    "\tof   0.025004\n",
    "\tand   0.024430\n",
    "\tto   0.022212\n",
    "\ta   0.018408\n",
    "\tin   0.014462\n",
    "\twas   0.010226\n",
    "\t``   0.008810\n",
    "\tI   0.008008\n",
    "\tthat   0.007665\n",
    "\the   0.007599\n",
    "\tfor   0.006886\n",
    "\twith   0.006570\n",
    "\tit   0.006374\n",
    "\this   0.006352\n",
    "\thad   0.006240\n",
    "\ton   0.005973\n",
    "\tis   0.005421\n",
    "\tbe   0.005349\n",
    "\tThe   0.005269\n",
    "\tas   0.004868\n",
    "\tat   0.004557\n",
    "\tHe   0.004517\n",
    "\tyou   0.004459\n",
    "\ther   0.004405\n",
    "\thim   0.003612\n",
    "\tor   0.003474\n",
    "\tfrom   0.003448"
   ]
  },
  {
   "cell_type": "markdown",
   "id": "00727a2b-50f0-41b9-bb42-dfe18bc7b0d2",
   "metadata": {},
   "source": [
    "### interpretation:  \n",
    "LDA tries to infer topics, which are likeli to have generated the documents. As we only use one topic, we trie to infer a topic, that generatet all these documents. This means a model that will show the most frequent word for the documents, \"the most likely\" ones, as these are obviously most \"important\", from a MLE standpoint.  As a topic model, there might be some interesting insights, but in general a simple count would be  sufficient for this."
   ]
  },
  {
   "cell_type": "markdown",
   "id": "d62872ee-2433-43c0-baf5-9a5201038235",
   "metadata": {},
   "source": [
    "b) Train an LDA model with GibbsLDA++ with 5 topics (-ntopics) and 200 iterations (-niters) on the\n",
    "training data. Save the model in every 10th iteration (-savestep) and output the 100 most probable\n",
    "words (-twords).\n",
    "For every saved model (model-00010, ..., model-00190, model-final) compute the overlap of words for\n",
    "each topic with its previous model (using the .twords files):  \n",
    "GibbsLDA++-0.2/src/lda -est -ntopics 5 -dfile lda-input-train.txt -twords 100 -niters 200 -savestep 10 -dir ./b"
   ]
  },
  {
   "cell_type": "code",
   "execution_count": 51,
   "id": "ad7f00bb-b258-45ad-a29e-fb672ff64900",
   "metadata": {},
   "outputs": [],
   "source": [
    "import os\n",
    "def read_twords(path):\n",
    "    twords = []\n",
    "    for file in os.listdir(path):\n",
    "        if not file.endswith(\"twords\"):\n",
    "            continue\n",
    "        print(f\"Readin {file}\")\n",
    "        curr_file = os.path.join(path, file)\n",
    "        with open(curr_file, 'r') as stream:\n",
    "            content = stream.read()\n",
    "            twords.append(content)\n",
    "    return twords\n",
    "def split_and_remove(list_of_t):\n",
    "    new = []\n",
    "    for t in list_of_t:\n",
    "        new.append(t.split(\"   \")[0])\n",
    "    return new\n",
    "def cleanup_twords(unformatted):\n",
    "    import re\n",
    "    form = unformatted\n",
    "    r = re.compile(\"(Topic)\\s\\d(th):\")\n",
    "    form = re.sub(r, \"NEWTOPIC\", form)\n",
    "    form = re.sub('\\n\\t', \"\\n\", form)\n",
    "    form = form.lstrip(\"\\n\")\n",
    "    form = form.split(\"NEWTOPIC\")\n",
    "    form = [element for element in form if len(element)>0]\n",
    "    form = [element.lstrip(\"\\n\") for element in form if len(element)>0]\n",
    "    form = [element for element in form if len(element)>0]\n",
    "    form = [element.split(\"\\n\") for element in form]\n",
    "    form = [split_and_remove(element) for element in form]            \n",
    "    return form\n",
    "\n",
    "def cleanup_list_of_twords(l_of_t):\n",
    "    n = []\n",
    "    for l in l_of_t:\n",
    "        n.append(cleanup_twords(l))\n",
    "    \n",
    "    # filter remaining empty entry\n",
    "    new = []\n",
    "    for run in n:\n",
    "        new_run = []\n",
    "        for topic in run:\n",
    "            new_run.append([x for x in topic if x])\n",
    "        new.append(new_run)\n",
    "        \n",
    "    return new\n",
    "def compare_runs_via_topics(runs):\n",
    "    \n",
    "    for i in range(len(runs)-1):\n",
    "        print(f\"Comparing run {i+1} with {i+2}\")\n",
    "        for j in range(len(runs[i])):\n",
    "            # compare topic n from run i with run i+1\n",
    "            t1 = runs[i][j]\n",
    "            t2 = runs[i+1][j]\n",
    "            intersec = len([x for x in t1 if x in t2])\n",
    "            print(f\"intersection topic {j} is: {intersec} from 100 topwors ({intersec/100}%)\")\n",
    "    "
   ]
  },
  {
   "cell_type": "code",
   "execution_count": 187,
   "id": "18dae42b-dbe0-4031-a041-2ad17402cb6c",
   "metadata": {},
   "outputs": [
    {
     "name": "stdout",
     "output_type": "stream",
     "text": [
      "Readin model-00010.twords\n",
      "Readin model-00020.twords\n",
      "Readin model-00030.twords\n",
      "Readin model-00040.twords\n",
      "Readin model-00050.twords\n",
      "Readin model-00060.twords\n",
      "Readin model-00070.twords\n",
      "Readin model-00080.twords\n",
      "Readin model-00090.twords\n",
      "Readin model-00100.twords\n",
      "Readin model-00110.twords\n",
      "Readin model-00120.twords\n",
      "Readin model-00130.twords\n",
      "Readin model-00140.twords\n",
      "Readin model-00150.twords\n",
      "Readin model-00160.twords\n",
      "Readin model-00170.twords\n",
      "Readin model-00180.twords\n",
      "Readin model-00190.twords\n",
      "Readin model-00200.twords\n",
      "Readin model-final.twords\n",
      "21\n",
      "5\n",
      "100\n",
      "Comparing run 1 with 2\n",
      "intersection topic 0 is: 76 from 100 topwors (0.76%)\n",
      "intersection topic 1 is: 80 from 100 topwors (0.8%)\n",
      "intersection topic 2 is: 68 from 100 topwors (0.68%)\n",
      "intersection topic 3 is: 86 from 100 topwors (0.86%)\n",
      "intersection topic 4 is: 77 from 100 topwors (0.77%)\n",
      "Comparing run 2 with 3\n",
      "intersection topic 0 is: 85 from 100 topwors (0.85%)\n",
      "intersection topic 1 is: 88 from 100 topwors (0.88%)\n",
      "intersection topic 2 is: 78 from 100 topwors (0.78%)\n",
      "intersection topic 3 is: 90 from 100 topwors (0.9%)\n",
      "intersection topic 4 is: 88 from 100 topwors (0.88%)\n",
      "Comparing run 3 with 4\n",
      "intersection topic 0 is: 90 from 100 topwors (0.9%)\n",
      "intersection topic 1 is: 95 from 100 topwors (0.95%)\n",
      "intersection topic 2 is: 85 from 100 topwors (0.85%)\n",
      "intersection topic 3 is: 90 from 100 topwors (0.9%)\n",
      "intersection topic 4 is: 88 from 100 topwors (0.88%)\n",
      "Comparing run 4 with 5\n",
      "intersection topic 0 is: 89 from 100 topwors (0.89%)\n",
      "intersection topic 1 is: 93 from 100 topwors (0.93%)\n",
      "intersection topic 2 is: 85 from 100 topwors (0.85%)\n",
      "intersection topic 3 is: 94 from 100 topwors (0.94%)\n",
      "intersection topic 4 is: 86 from 100 topwors (0.86%)\n",
      "Comparing run 5 with 6\n",
      "intersection topic 0 is: 92 from 100 topwors (0.92%)\n",
      "intersection topic 1 is: 94 from 100 topwors (0.94%)\n",
      "intersection topic 2 is: 87 from 100 topwors (0.87%)\n",
      "intersection topic 3 is: 95 from 100 topwors (0.95%)\n",
      "intersection topic 4 is: 90 from 100 topwors (0.9%)\n",
      "Comparing run 6 with 7\n",
      "intersection topic 0 is: 91 from 100 topwors (0.91%)\n",
      "intersection topic 1 is: 91 from 100 topwors (0.91%)\n",
      "intersection topic 2 is: 92 from 100 topwors (0.92%)\n",
      "intersection topic 3 is: 93 from 100 topwors (0.93%)\n",
      "intersection topic 4 is: 86 from 100 topwors (0.86%)\n",
      "Comparing run 7 with 8\n",
      "intersection topic 0 is: 93 from 100 topwors (0.93%)\n",
      "intersection topic 1 is: 89 from 100 topwors (0.89%)\n",
      "intersection topic 2 is: 90 from 100 topwors (0.9%)\n",
      "intersection topic 3 is: 93 from 100 topwors (0.93%)\n",
      "intersection topic 4 is: 89 from 100 topwors (0.89%)\n",
      "Comparing run 8 with 9\n",
      "intersection topic 0 is: 91 from 100 topwors (0.91%)\n",
      "intersection topic 1 is: 90 from 100 topwors (0.9%)\n",
      "intersection topic 2 is: 86 from 100 topwors (0.86%)\n",
      "intersection topic 3 is: 94 from 100 topwors (0.94%)\n",
      "intersection topic 4 is: 90 from 100 topwors (0.9%)\n",
      "Comparing run 9 with 10\n",
      "intersection topic 0 is: 94 from 100 topwors (0.94%)\n",
      "intersection topic 1 is: 94 from 100 topwors (0.94%)\n",
      "intersection topic 2 is: 89 from 100 topwors (0.89%)\n",
      "intersection topic 3 is: 94 from 100 topwors (0.94%)\n",
      "intersection topic 4 is: 89 from 100 topwors (0.89%)\n",
      "Comparing run 10 with 11\n",
      "intersection topic 0 is: 92 from 100 topwors (0.92%)\n",
      "intersection topic 1 is: 93 from 100 topwors (0.93%)\n",
      "intersection topic 2 is: 93 from 100 topwors (0.93%)\n",
      "intersection topic 3 is: 96 from 100 topwors (0.96%)\n",
      "intersection topic 4 is: 88 from 100 topwors (0.88%)\n",
      "Comparing run 11 with 12\n",
      "intersection topic 0 is: 92 from 100 topwors (0.92%)\n",
      "intersection topic 1 is: 91 from 100 topwors (0.91%)\n",
      "intersection topic 2 is: 91 from 100 topwors (0.91%)\n",
      "intersection topic 3 is: 97 from 100 topwors (0.97%)\n",
      "intersection topic 4 is: 90 from 100 topwors (0.9%)\n",
      "Comparing run 12 with 13\n",
      "intersection topic 0 is: 95 from 100 topwors (0.95%)\n",
      "intersection topic 1 is: 92 from 100 topwors (0.92%)\n",
      "intersection topic 2 is: 91 from 100 topwors (0.91%)\n",
      "intersection topic 3 is: 98 from 100 topwors (0.98%)\n",
      "intersection topic 4 is: 89 from 100 topwors (0.89%)\n",
      "Comparing run 13 with 14\n",
      "intersection topic 0 is: 92 from 100 topwors (0.92%)\n",
      "intersection topic 1 is: 93 from 100 topwors (0.93%)\n",
      "intersection topic 2 is: 90 from 100 topwors (0.9%)\n",
      "intersection topic 3 is: 97 from 100 topwors (0.97%)\n",
      "intersection topic 4 is: 92 from 100 topwors (0.92%)\n",
      "Comparing run 14 with 15\n",
      "intersection topic 0 is: 90 from 100 topwors (0.9%)\n",
      "intersection topic 1 is: 92 from 100 topwors (0.92%)\n",
      "intersection topic 2 is: 92 from 100 topwors (0.92%)\n",
      "intersection topic 3 is: 96 from 100 topwors (0.96%)\n",
      "intersection topic 4 is: 91 from 100 topwors (0.91%)\n",
      "Comparing run 15 with 16\n",
      "intersection topic 0 is: 91 from 100 topwors (0.91%)\n",
      "intersection topic 1 is: 93 from 100 topwors (0.93%)\n",
      "intersection topic 2 is: 91 from 100 topwors (0.91%)\n",
      "intersection topic 3 is: 96 from 100 topwors (0.96%)\n",
      "intersection topic 4 is: 88 from 100 topwors (0.88%)\n",
      "Comparing run 16 with 17\n",
      "intersection topic 0 is: 91 from 100 topwors (0.91%)\n",
      "intersection topic 1 is: 91 from 100 topwors (0.91%)\n",
      "intersection topic 2 is: 90 from 100 topwors (0.9%)\n",
      "intersection topic 3 is: 97 from 100 topwors (0.97%)\n",
      "intersection topic 4 is: 89 from 100 topwors (0.89%)\n",
      "Comparing run 17 with 18\n",
      "intersection topic 0 is: 94 from 100 topwors (0.94%)\n",
      "intersection topic 1 is: 95 from 100 topwors (0.95%)\n",
      "intersection topic 2 is: 91 from 100 topwors (0.91%)\n",
      "intersection topic 3 is: 97 from 100 topwors (0.97%)\n",
      "intersection topic 4 is: 89 from 100 topwors (0.89%)\n",
      "Comparing run 18 with 19\n",
      "intersection topic 0 is: 93 from 100 topwors (0.93%)\n",
      "intersection topic 1 is: 96 from 100 topwors (0.96%)\n",
      "intersection topic 2 is: 90 from 100 topwors (0.9%)\n",
      "intersection topic 3 is: 95 from 100 topwors (0.95%)\n",
      "intersection topic 4 is: 87 from 100 topwors (0.87%)\n",
      "Comparing run 19 with 20\n",
      "intersection topic 0 is: 92 from 100 topwors (0.92%)\n",
      "intersection topic 1 is: 94 from 100 topwors (0.94%)\n",
      "intersection topic 2 is: 87 from 100 topwors (0.87%)\n",
      "intersection topic 3 is: 94 from 100 topwors (0.94%)\n",
      "intersection topic 4 is: 86 from 100 topwors (0.86%)\n",
      "Comparing run 20 with 21\n",
      "intersection topic 0 is: 100 from 100 topwors (1.0%)\n",
      "intersection topic 1 is: 100 from 100 topwors (1.0%)\n",
      "intersection topic 2 is: 100 from 100 topwors (1.0%)\n",
      "intersection topic 3 is: 100 from 100 topwors (1.0%)\n",
      "intersection topic 4 is: 100 from 100 topwors (1.0%)\n"
     ]
    }
   ],
   "source": [
    "dir_path=\"./b\"\n",
    "twords_unformatted =read_twords(dir_path)\n",
    "cleanuped = cleanup_list_of_twords(twords_unformatted)\n",
    "print(len(cleanuped)) # 20 runs + final\n",
    "print(len(cleanuped[0])) # 5 topic\n",
    "print(len(cleanuped[0][2])) # 100 twords per topic\n",
    "compare_runs_via_topics(cleanuped)"
   ]
  },
  {
   "cell_type": "markdown",
   "id": "5373276d-96a2-4395-bec2-01dc2903114c",
   "metadata": {},
   "source": [
    "Ignoring run 20 + 21 (same model, 100% intersection) it is observable that the topics do converge in terms of topwords at around run 6 and only increases a bit before falling down to the same overlap in the end again. Even though there is a bit variaton for the topics each stays in their \"range\" of intersection."
   ]
  },
  {
   "cell_type": "code",
   "execution_count": 188,
   "id": "01065e8c-6488-49d6-b4a3-284b6e3e6619",
   "metadata": {},
   "outputs": [
    {
     "name": "stdout",
     "output_type": "stream",
     "text": [
      "Readin model-00010.twords\n",
      "Readin model-00020.twords\n",
      "Readin model-00030.twords\n",
      "Readin model-00040.twords\n",
      "Readin model-00050.twords\n",
      "Readin model-00060.twords\n",
      "Readin model-00070.twords\n",
      "Readin model-00080.twords\n",
      "Readin model-00090.twords\n",
      "Readin model-00100.twords\n",
      "Readin model-00110.twords\n",
      "Readin model-00120.twords\n",
      "Readin model-00130.twords\n",
      "Readin model-00140.twords\n",
      "Readin model-00150.twords\n",
      "Readin model-00160.twords\n",
      "Readin model-00170.twords\n",
      "Readin model-00180.twords\n",
      "Readin model-00190.twords\n",
      "Readin model-00200.twords\n",
      "Readin model-final.twords\n",
      "21\n",
      "5\n",
      "100\n",
      "Comparing run 1 with 2\n",
      "intersection topic 0 is: 47 from 100 topwors (0.47%)\n",
      "intersection topic 1 is: 72 from 100 topwors (0.72%)\n",
      "intersection topic 2 is: 71 from 100 topwors (0.71%)\n",
      "intersection topic 3 is: 79 from 100 topwors (0.79%)\n",
      "intersection topic 4 is: 52 from 100 topwors (0.52%)\n",
      "Comparing run 2 with 3\n",
      "intersection topic 0 is: 65 from 100 topwors (0.65%)\n",
      "intersection topic 1 is: 74 from 100 topwors (0.74%)\n",
      "intersection topic 2 is: 87 from 100 topwors (0.87%)\n",
      "intersection topic 3 is: 85 from 100 topwors (0.85%)\n",
      "intersection topic 4 is: 67 from 100 topwors (0.67%)\n",
      "Comparing run 3 with 4\n",
      "intersection topic 0 is: 65 from 100 topwors (0.65%)\n",
      "intersection topic 1 is: 74 from 100 topwors (0.74%)\n",
      "intersection topic 2 is: 90 from 100 topwors (0.9%)\n",
      "intersection topic 3 is: 87 from 100 topwors (0.87%)\n",
      "intersection topic 4 is: 74 from 100 topwors (0.74%)\n",
      "Comparing run 4 with 5\n",
      "intersection topic 0 is: 71 from 100 topwors (0.71%)\n",
      "intersection topic 1 is: 77 from 100 topwors (0.77%)\n",
      "intersection topic 2 is: 89 from 100 topwors (0.89%)\n",
      "intersection topic 3 is: 87 from 100 topwors (0.87%)\n",
      "intersection topic 4 is: 75 from 100 topwors (0.75%)\n",
      "Comparing run 5 with 6\n",
      "intersection topic 0 is: 83 from 100 topwors (0.83%)\n",
      "intersection topic 1 is: 82 from 100 topwors (0.82%)\n",
      "intersection topic 2 is: 89 from 100 topwors (0.89%)\n",
      "intersection topic 3 is: 87 from 100 topwors (0.87%)\n",
      "intersection topic 4 is: 76 from 100 topwors (0.76%)\n",
      "Comparing run 6 with 7\n",
      "intersection topic 0 is: 73 from 100 topwors (0.73%)\n",
      "intersection topic 1 is: 88 from 100 topwors (0.88%)\n",
      "intersection topic 2 is: 89 from 100 topwors (0.89%)\n",
      "intersection topic 3 is: 88 from 100 topwors (0.88%)\n",
      "intersection topic 4 is: 82 from 100 topwors (0.82%)\n",
      "Comparing run 7 with 8\n",
      "intersection topic 0 is: 74 from 100 topwors (0.74%)\n",
      "intersection topic 1 is: 85 from 100 topwors (0.85%)\n",
      "intersection topic 2 is: 95 from 100 topwors (0.95%)\n",
      "intersection topic 3 is: 84 from 100 topwors (0.84%)\n",
      "intersection topic 4 is: 81 from 100 topwors (0.81%)\n",
      "Comparing run 8 with 9\n",
      "intersection topic 0 is: 79 from 100 topwors (0.79%)\n",
      "intersection topic 1 is: 83 from 100 topwors (0.83%)\n",
      "intersection topic 2 is: 89 from 100 topwors (0.89%)\n",
      "intersection topic 3 is: 83 from 100 topwors (0.83%)\n",
      "intersection topic 4 is: 81 from 100 topwors (0.81%)\n",
      "Comparing run 9 with 10\n",
      "intersection topic 0 is: 77 from 100 topwors (0.77%)\n",
      "intersection topic 1 is: 86 from 100 topwors (0.86%)\n",
      "intersection topic 2 is: 93 from 100 topwors (0.93%)\n",
      "intersection topic 3 is: 83 from 100 topwors (0.83%)\n",
      "intersection topic 4 is: 85 from 100 topwors (0.85%)\n",
      "Comparing run 10 with 11\n",
      "intersection topic 0 is: 79 from 100 topwors (0.79%)\n",
      "intersection topic 1 is: 84 from 100 topwors (0.84%)\n",
      "intersection topic 2 is: 90 from 100 topwors (0.9%)\n",
      "intersection topic 3 is: 83 from 100 topwors (0.83%)\n",
      "intersection topic 4 is: 86 from 100 topwors (0.86%)\n",
      "Comparing run 11 with 12\n",
      "intersection topic 0 is: 77 from 100 topwors (0.77%)\n",
      "intersection topic 1 is: 87 from 100 topwors (0.87%)\n",
      "intersection topic 2 is: 91 from 100 topwors (0.91%)\n",
      "intersection topic 3 is: 89 from 100 topwors (0.89%)\n",
      "intersection topic 4 is: 85 from 100 topwors (0.85%)\n",
      "Comparing run 12 with 13\n",
      "intersection topic 0 is: 78 from 100 topwors (0.78%)\n",
      "intersection topic 1 is: 88 from 100 topwors (0.88%)\n",
      "intersection topic 2 is: 94 from 100 topwors (0.94%)\n",
      "intersection topic 3 is: 85 from 100 topwors (0.85%)\n",
      "intersection topic 4 is: 82 from 100 topwors (0.82%)\n",
      "Comparing run 13 with 14\n",
      "intersection topic 0 is: 74 from 100 topwors (0.74%)\n",
      "intersection topic 1 is: 86 from 100 topwors (0.86%)\n",
      "intersection topic 2 is: 93 from 100 topwors (0.93%)\n",
      "intersection topic 3 is: 86 from 100 topwors (0.86%)\n",
      "intersection topic 4 is: 81 from 100 topwors (0.81%)\n",
      "Comparing run 14 with 15\n",
      "intersection topic 0 is: 81 from 100 topwors (0.81%)\n",
      "intersection topic 1 is: 88 from 100 topwors (0.88%)\n",
      "intersection topic 2 is: 94 from 100 topwors (0.94%)\n",
      "intersection topic 3 is: 86 from 100 topwors (0.86%)\n",
      "intersection topic 4 is: 81 from 100 topwors (0.81%)\n",
      "Comparing run 15 with 16\n",
      "intersection topic 0 is: 77 from 100 topwors (0.77%)\n",
      "intersection topic 1 is: 90 from 100 topwors (0.9%)\n",
      "intersection topic 2 is: 92 from 100 topwors (0.92%)\n",
      "intersection topic 3 is: 88 from 100 topwors (0.88%)\n",
      "intersection topic 4 is: 82 from 100 topwors (0.82%)\n",
      "Comparing run 16 with 17\n",
      "intersection topic 0 is: 78 from 100 topwors (0.78%)\n",
      "intersection topic 1 is: 85 from 100 topwors (0.85%)\n",
      "intersection topic 2 is: 92 from 100 topwors (0.92%)\n",
      "intersection topic 3 is: 84 from 100 topwors (0.84%)\n",
      "intersection topic 4 is: 81 from 100 topwors (0.81%)\n",
      "Comparing run 17 with 18\n",
      "intersection topic 0 is: 77 from 100 topwors (0.77%)\n",
      "intersection topic 1 is: 89 from 100 topwors (0.89%)\n",
      "intersection topic 2 is: 92 from 100 topwors (0.92%)\n",
      "intersection topic 3 is: 87 from 100 topwors (0.87%)\n",
      "intersection topic 4 is: 82 from 100 topwors (0.82%)\n",
      "Comparing run 18 with 19\n",
      "intersection topic 0 is: 73 from 100 topwors (0.73%)\n",
      "intersection topic 1 is: 89 from 100 topwors (0.89%)\n",
      "intersection topic 2 is: 91 from 100 topwors (0.91%)\n",
      "intersection topic 3 is: 84 from 100 topwors (0.84%)\n",
      "intersection topic 4 is: 82 from 100 topwors (0.82%)\n",
      "Comparing run 19 with 20\n",
      "intersection topic 0 is: 78 from 100 topwors (0.78%)\n",
      "intersection topic 1 is: 89 from 100 topwors (0.89%)\n",
      "intersection topic 2 is: 94 from 100 topwors (0.94%)\n",
      "intersection topic 3 is: 83 from 100 topwors (0.83%)\n",
      "intersection topic 4 is: 82 from 100 topwors (0.82%)\n",
      "Comparing run 20 with 21\n",
      "intersection topic 0 is: 100 from 100 topwors (1.0%)\n",
      "intersection topic 1 is: 100 from 100 topwors (1.0%)\n",
      "intersection topic 2 is: 100 from 100 topwors (1.0%)\n",
      "intersection topic 3 is: 100 from 100 topwors (1.0%)\n",
      "intersection topic 4 is: 100 from 100 topwors (1.0%)\n"
     ]
    }
   ],
   "source": [
    "# repeat without stopwords\n",
    "#GibbsLDA++-0.2/src/lda -est -ntopics 5 -dfile lda-input-train-no-stop.txt -twords 100 -niters 200 -savestep 10 -dir ./s\n",
    "\n",
    "dir_path=\"./s\"\n",
    "twords_unformatted =read_twords(dir_path)\n",
    "cleanuped = cleanup_list_of_twords(twords_unformatted)\n",
    "print(len(cleanuped)) # 20 runs + final\n",
    "print(len(cleanuped[0])) # 5 topic\n",
    "print(len(cleanuped[0][2])) # 100 twords per topic\n",
    "compare_runs_via_topics(cleanuped)"
   ]
  },
  {
   "cell_type": "markdown",
   "id": "55c07631-cbc8-4a41-b8ac-ccae7bbebad2",
   "metadata": {},
   "source": [
    "Even though the overlap is siginficantly lower, the situation is prerry similar: after a few runs, the oerlap converges for every topic in a specific range for this topic, maybe 1-2 laps later as in the first experiment"
   ]
  },
  {
   "cell_type": "code",
   "execution_count": null,
   "id": "a7081e43-554b-435c-8c3b-29199d1661b0",
   "metadata": {},
   "outputs": [],
   "source": [
    "# inference in test\n",
    "#GibbsLDA++-0.2/src/lda -inf -niters 100 -twords 30 -dir ./ -model ./s/model-final \\-dfile lda-input-test.txt\n",
    "# final model: the final model without stopwords, input with stopwords\n",
    "\n",
    "#GibbsLDA++-0.2/src/lda -inf -niters 100 -twords 30 -dir ./ -model ./s/model-final \\-dfile lda-input-test-no-stop.txt\n",
    "# final model without stopwords input without\n",
    "\n"
   ]
  },
  {
   "cell_type": "markdown",
   "id": "bf0b314b-3f38-45ae-ab39-1de7d0ad45bd",
   "metadata": {},
   "source": [
    "The inference works ( visible in .tassign) as the inference removes unknown words itself. The overlap is far better using both models with stopwords, but that doesn't mean the topics are better, as they tend to be more \"generic\" as explained before, because stopwords make the important part of the topics. A model trained with topwords and inference without stopwords is the worst one, because we generate topics based on wordcounts and remove the most likeli words. Thus, "
   ]
  }
 ],
 "metadata": {
  "kernelspec": {
   "display_name": "Python 3",
   "language": "python",
   "name": "python3"
  },
  "language_info": {
   "codemirror_mode": {
    "name": "ipython",
    "version": 3
   },
   "file_extension": ".py",
   "mimetype": "text/x-python",
   "name": "python",
   "nbconvert_exporter": "python",
   "pygments_lexer": "ipython3",
   "version": "3.8.8"
  }
 },
 "nbformat": 4,
 "nbformat_minor": 5
}
