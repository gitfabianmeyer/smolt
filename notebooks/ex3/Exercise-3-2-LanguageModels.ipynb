{
 "cells": [
  {
   "cell_type": "markdown",
   "metadata": {},
   "source": [
    "# Task 3.2 Language Models\n",
    "First lets read the data from the given -train and .test files respectively:"
   ]
  },
  {
   "cell_type": "code",
   "execution_count": 105,
   "metadata": {},
   "outputs": [
    {
     "name": "stdout",
     "output_type": "stream",
     "text": [
      "50000 \n",
      " Example#43:  %^% %^% \" Der Werbe-Job begann mich zu langweilen , also schrieb ich wieder . \" %$% %$%\n",
      "50000 \n",
      " Example#43:  %^% %^% Er studierte am Southern California Institute of Architecture und bei John Hejduk an der Cooper Union in New York . 1985 gründete er sein eigenes Büro in Tokio . %$% %$%\n"
     ]
    }
   ],
   "source": [
    "START_SYMBOL = '%^% %^%'\n",
    "END_SYMBOL = '%$% %$%'\n",
    "\n",
    "# read train and test files\n",
    "with open('de_text/de_text.train') as f:\n",
    "    train_sentences = [line.rstrip() for line in f]\n",
    "with open('de_text/de_text.test') as f:\n",
    "    test_sentences = [line.rstrip() for line in f]\n",
    "    \n",
    "print(f'{len(train_sentences)} \\n Example#43:  {train_sentences[43]}')\n",
    "print(f'{len(test_sentences)} \\n Example#43:  {test_sentences[43]}')"
   ]
  },
  {
   "cell_type": "code",
   "execution_count": 106,
   "metadata": {},
   "outputs": [
    {
     "name": "stdout",
     "output_type": "stream",
     "text": [
      "50000 \n",
      " Example#43:  ['``', 'der', 'werbe-job', 'begann', 'mich', 'zu', 'langweilen', ',', 'also', 'schrieb', 'ich', 'wieder', '.', '``']\n",
      "50000 \n",
      " Example#43:  ['er', 'studierte', 'am', 'southern', 'california', 'institute', 'of', 'architecture', 'und', 'bei', 'john', 'hejduk', 'an', 'der', 'cooper', 'union', 'in', 'new', 'york', '.', '1985', 'gründete', 'er', 'sein', 'eigenes', 'büro', 'in', 'tokio', '.']\n"
     ]
    }
   ],
   "source": [
    "# for unigram: omit START and END symbols\n",
    "train_sentences_unigram = [line.lstrip(START_SYMBOL).rstrip(END_SYMBOL) for line in train_sentences]\n",
    "test_sentences_unigram = [line.lstrip(START_SYMBOL).rstrip(END_SYMBOL) for line in test_sentences]\n",
    "\n",
    "# tokenize sentences, lowercase each word -> list of lists\n",
    "tokenized_train_text = [list(map(str.lower, nltk.tokenize.word_tokenize(sentence))) for sentence in train_sentences_unigram]\n",
    "tokenized_test_text = [list(map(str.lower, nltk.tokenize.word_tokenize(sentence))) for sentence in test_sentences_unigram]\n",
    "\n",
    "print(f'{len(tokenized_train_text)} \\n Example#43:  {tokenized_train_text[43]}')\n",
    "print(f'{len(tokenized_test_text)} \\n Example#43:  {tokenized_test_text[43]}')"
   ]
  },
  {
   "cell_type": "markdown",
   "metadata": {},
   "source": [
    "## a) List the 20 most frequent words from the training set."
   ]
  },
  {
   "cell_type": "code",
   "execution_count": 107,
   "metadata": {},
   "outputs": [
    {
     "name": "stdout",
     "output_type": "stream",
     "text": [
      "Number of unigrams: 911850\n"
     ]
    },
    {
     "data": {
      "image/png": "[encoded data removed]",
      "text/plain": [
       "<Figure size 432x288 with 1 Axes>"
      ]
     },
     "metadata": {
      "needs_background": "light"
     },
     "output_type": "display_data"
    }
   ],
   "source": [
    "import pandas as pd\n",
    "from nltk import ngrams, FreqDist\n",
    "\n",
    "list_unigrams = [ngrams(sentence, 1) for sentence in tokenized_train_text]\n",
    "# unpack list of lists\n",
    "text_unigrams = [item for sublist in list_unigrams for item in sublist]\n",
    "print(f'Number of unigrams: {len(text_unigrams)}')\n",
    "\n",
    "frequency_dist = FreqDist(text_unigrams)\n",
    "unigram_dict = dict()\n",
    "for key, value in frequency_dist.items():\n",
    "        unigram_dict[' '.join(key)] = value\n",
    "        \n",
    "unigram_freq = pd.Series(unigram_dict).nlargest(20).plot(kind='bar')"
   ]
  },
  {
   "cell_type": "markdown",
   "metadata": {},
   "source": [
    "## b) Compute the percentage of tokens in the test data that have not been seen in the training data."
   ]
  },
  {
   "cell_type": "code",
   "execution_count": 108,
   "metadata": {},
   "outputs": [
    {
     "name": "stdout",
     "output_type": "stream",
     "text": [
      "Number of unigrams in test-data: 907335\n",
      "Number token in test, but not in training: 67300\n",
      "\n",
      "Percentage not seen in train: 0.07417326566262736\n"
     ]
    }
   ],
   "source": [
    "def diff(first, second):\n",
    "    second = set(second)\n",
    "    return [item for item in first if item not in second]\n",
    "\n",
    "# text_unigrams = text_unigrams_train\n",
    "list_unigrams_test = [ngrams(sentence, 1) for sentence in tokenized_test_text]\n",
    "# unpack list of lists\n",
    "text_unigrams_test = [item for sublist in list_unigrams_test for item in sublist]\n",
    "print(f'Number of unigrams in test-data: {len(text_unigrams_test)}')\n",
    "\n",
    "unigrams_in_test_but_not_in_train = diff(text_unigrams_test, text_unigrams)\n",
    "print(f'Number token in test, but not in training: {len(unigrams_in_test_but_not_in_train)}')\n",
    "print(f'\\nPercentage not seen in train: {len(unigrams_in_test_but_not_in_train) / len(text_unigrams_test)}')"
   ]
  },
  {
   "cell_type": "markdown",
   "metadata": {},
   "source": [
    "## c) List the 20 most frequent bigrams from the training set."
   ]
  },
  {
   "cell_type": "code",
   "execution_count": 109,
   "metadata": {},
   "outputs": [
    {
     "name": "stdout",
     "output_type": "stream",
     "text": [
      "Number of bigrams: 961850\n"
     ]
    },
    {
     "data": {
      "image/png": "[encoded data removed]",
      "text/plain": [
       "<Figure size 432x288 with 1 Axes>"
      ]
     },
     "metadata": {
      "needs_background": "light"
     },
     "output_type": "display_data"
    }
   ],
   "source": [
    "list_bigrams = [ngrams(sentence, 2, \n",
    "                       pad_left=True, \n",
    "                       pad_right=True, \n",
    "                       left_pad_symbol='<s>', # as we removed start symbol, replace by <s> for plotting reasons\n",
    "                       right_pad_symbol='<e>') # as we removed end symbol, replace by <e> for plotting reasons\n",
    "                for sentence in tokenized_train_text]\n",
    "# unpack list of lists\n",
    "text_bigrams = [item for sublist in list_bigrams for item in sublist]\n",
    "print(f'Number of bigrams: {len(text_bigrams)}')\n",
    "\n",
    "frequency_dist = FreqDist(text_bigrams)\n",
    "bigram_dict = dict()\n",
    "for key, value in frequency_dist.items():\n",
    "        bigram_dict[' '.join(key)] = value\n",
    "        \n",
    "bigram_freq = pd.Series(bigram_dict).nlargest(20).plot(kind='bar')"
   ]
  },
  {
   "cell_type": "markdown",
   "metadata": {},
   "source": [
    "## d) Compute the percentage of bigrams in the test data that have not been seen in the training data."
   ]
  },
  {
   "cell_type": "code",
   "execution_count": 110,
   "metadata": {},
   "outputs": [
    {
     "name": "stdout",
     "output_type": "stream",
     "text": [
      "Number of bigrams in test-data: 957335\n",
      "Number token in test, but not in training: 391930\n",
      "\n",
      "Percentage not seen in train: 0.40939691957360796\n"
     ]
    }
   ],
   "source": [
    "list_bigrams_test = [ngrams(sentence, 2, \n",
    "                            pad_left=True, \n",
    "                            pad_right=True, \n",
    "                            left_pad_symbol='<s>', # as we removed start symbol, replace by <s> for plotting reasons\n",
    "                            right_pad_symbol='<e>') # as we removed end symbol, replace by <e> for plotting reasons\n",
    "                    for sentence in tokenized_test_text]\n",
    "# unpack list of lists\n",
    "text_bigrams_test = [item for sublist in list_bigrams_test for item in sublist]\n",
    "print(f'Number of bigrams in test-data: {len(text_bigrams_test)}')\n",
    "\n",
    "bigrams_in_test_but_not_in_train = diff(text_bigrams_test, text_bigrams)\n",
    "print(f'Number token in test, but not in training: {len(bigrams_in_test_but_not_in_train)}')\n",
    "print(f'\\nPercentage not seen in train: {len(bigrams_in_test_but_not_in_train) / len(text_bigrams_test)}')"
   ]
  },
  {
   "cell_type": "markdown",
   "metadata": {},
   "source": [
    "## e) Compute the percentage of trigrams in the test data that have not been seen in the training data."
   ]
  },
  {
   "cell_type": "code",
   "execution_count": 111,
   "metadata": {},
   "outputs": [
    {
     "name": "stdout",
     "output_type": "stream",
     "text": [
      "Number of trigrams in train-data: 1011850\n",
      "Number of trigrams in test-data: 1007335\n",
      "Number token in test, but not in training: 715001\n",
      "\n",
      "Percentage not seen in train: 0.7097946561967965\n"
     ]
    }
   ],
   "source": [
    "list_trigrams = [ngrams(sentence, 3,\n",
    "                        pad_left=True, \n",
    "                        pad_right=True, \n",
    "                        left_pad_symbol='<s>', # as we removed start symbol, replace by <s> for plotting reasons\n",
    "                        right_pad_symbol='<e>') # as we removed end symbol, replace by <e> for plotting reasons\n",
    "                for sentence in tokenized_train_text]\n",
    "\n",
    "list_trigrams_test = [ngrams(sentence, 3, \n",
    "                            pad_left=True, \n",
    "                            pad_right=True, \n",
    "                            left_pad_symbol='<s>', # as we removed start symbol, replace by <s> for plotting reasons\n",
    "                            right_pad_symbol='<e>') # as we removed end symbol, replace by <e> for plotting reasons\n",
    "                    for sentence in tokenized_test_text]\n",
    "# unpack list of lists\n",
    "text_trigrams = [item for sublist in list_trigrams for item in sublist]\n",
    "text_trigrams_test = [item for sublist in list_trigrams_test for item in sublist]\n",
    "print(f'Number of trigrams in train-data: {len(text_trigrams)}')\n",
    "print(f'Number of trigrams in test-data: {len(text_trigrams_test)}')\n",
    "\n",
    "trigrams_in_test_but_not_in_train = diff(text_trigrams_test, text_trigrams)\n",
    "print(f'Number token in test, but not in training: {len(trigrams_in_test_but_not_in_train)}')\n",
    "print(f'\\nPercentage not seen in train: {len(trigrams_in_test_but_not_in_train) / len(text_trigrams_test)}')"
   ]
  },
  {
   "cell_type": "markdown",
   "metadata": {},
   "source": [
    "## f) How many sentences in the test data are estimated to have zero probability by an MLE bigram model from the training data?"
   ]
  },
  {
   "cell_type": "markdown",
   "metadata": {},
   "source": [
    "Answer:\n",
    "* each sentence of the test data that has at least one bigram, which does not occur in the training data (creating prob. of zero)"
   ]
  },
  {
   "cell_type": "code",
   "execution_count": 112,
   "metadata": {},
   "outputs": [
    {
     "name": "stdout",
     "output_type": "stream",
     "text": [
      "MLE Estimates: [(('ebbe', ('<s>',)), 0.0), (('in', ('ebbe',)), 0.0), (('der', ('in',)), 0.19108627504429604), (('staatskasse', ('der',)), 3.556061306496924e-05), (('/', ('staatskasse',)), 0.0), (('/', ('/',)), 0.1574074074074074), (('im', ('/',)), 0.0), (('ersten', ('im',)), 0.01425914445133292), (('halbjahr', ('ersten',)), 0.05723905723905724), (('diesen', ('halbjahr',)), 0.0), (('jahres', ('diesen',)), 0.012232415902140673), (('sank', ('jahres',)), 0.0), (('das', ('sank',)), 0.0), (('steueraufkommen', ('das',)), 0.00022119000221190003), (('(', ('steueraufkommen',)), 0.0), (('ohne', ('(',)), 0.0017205781142463868), (('gemeindesteuern', ('ohne',)), 0.0), ((')', ('gemeindesteuern',)), 0), (('gegenüber', (')',)), 0.0003443526170798898), (('dem', ('gegenüber',)), 0.21634615384615385), (('gleichen', ('dem',)), 0.0013608087091757388), (('zeitraum', ('gleichen',)), 0.07547169811320754), (('des', ('zeitraum',)), 0.09090909090909091), (('vorjahresum', ('des',)), 0.0), (('5,2', ('vorjahresum',)), 0), (('prozent', ('5,2',)), 0.0), (('.', ('prozent',)), 0.11497730711043873), (('</s>', ('.',)), 0.0)]\n",
      "\n",
      "Number of sentences in test with zero prob: 49999\n"
     ]
    }
   ],
   "source": [
    "from nltk import bigrams\n",
    "from nltk.lm.preprocessing import padded_everygram_pipeline\n",
    "from nltk.lm import MLE\n",
    "from nltk.lm import Vocabulary\n",
    "\n",
    "n = 2\n",
    "train_data = [bigrams(t,  pad_right=True, pad_left=True, left_pad_symbol=\"<s>\", right_pad_symbol=\"<e>\") for t in tokenized_train_text]\n",
    "words = [word for sent in tokenized_train_text for word in sent]\n",
    "words.extend([\"<s>\", \"<e>\"])\n",
    "padded_vocab = Vocabulary(words)\n",
    "model = MLE(n)\n",
    "model.fit(train_data, padded_vocab)\n",
    "\n",
    "### TEST ###\n",
    "\n",
    "test_data = [bigrams(t,  pad_right=True, pad_left=True, left_pad_symbol=\"<s>\", right_pad_symbol=\"</s>\") for t in tokenized_test_text]\n",
    "for test in test_data[1:2]:\n",
    "    print (\"MLE Estimates:\", [((ngram[-1], ngram[:-1]),model.score(ngram[-1], ngram[:-1])) for ngram in test])\n",
    "\n",
    "zero_prob_sentences = []\n",
    "for bigram_sent in test_data:\n",
    "    for bigram in bigram_sent:\n",
    "        if model.score(bigram[-1], bigram[:-1]) == 0.0:\n",
    "            zero_prob_sentences.append((bigram_sent, bigram))\n",
    "            break # only count once\n",
    "            \n",
    "print(f'\\nNumber of sentences in test with zero prob: {len(zero_prob_sentences)}')"
   ]
  },
  {
   "cell_type": "markdown",
   "metadata": {},
   "source": [
    "## g) Give the probabilities of the first 3 sentences from the test data, using a linear combination of 0-gram, unigram, bigram and trigram model with $\\lambda_0 = 1.0 x 10^{-10}$; $\\lambda_1 = 0.01$; $\\lambda_2 = 0.2$; $\\lambda_3 = 1-(\\lambda_0 + \\lambda_1 + \\lambda_2$)"
   ]
  },
  {
   "cell_type": "code",
   "execution_count": 113,
   "metadata": {},
   "outputs": [
    {
     "ename": "AttributeError",
     "evalue": "'NoneType' object has no attribute 'score'",
     "output_type": "error",
     "traceback": [
      "\u001b[0;31m---------------------------------------------------------------------------\u001b[0m",
      "\u001b[0;31mAttributeError\u001b[0m                            Traceback (most recent call last)",
      "\u001b[0;32m<ipython-input-113-3fceb7403a7d>\u001b[0m in \u001b[0;36m<module>\u001b[0;34m\u001b[0m\n\u001b[1;32m     46\u001b[0m \u001b[0;31m#    for n\u001b[0m\u001b[0;34m\u001b[0m\u001b[0;34m\u001b[0m\u001b[0;34m\u001b[0m\u001b[0m\n\u001b[1;32m     47\u001b[0m \u001b[0;31m#print(\"Unigram:\", np.prod([unigram_model.score(unigram) for unigram in test_data_unigram[0]]))\u001b[0m\u001b[0;34m\u001b[0m\u001b[0;34m\u001b[0m\u001b[0;34m\u001b[0m\u001b[0m\n\u001b[0;32m---> 48\u001b[0;31m \u001b[0mprint\u001b[0m\u001b[0;34m(\u001b[0m\u001b[0;34m\"Bigram:\"\u001b[0m\u001b[0;34m,\u001b[0m \u001b[0mnp\u001b[0m\u001b[0;34m.\u001b[0m\u001b[0mprod\u001b[0m\u001b[0;34m(\u001b[0m\u001b[0;34m[\u001b[0m\u001b[0mbigram_model\u001b[0m\u001b[0;34m.\u001b[0m\u001b[0mscore\u001b[0m\u001b[0;34m(\u001b[0m\u001b[0mbigram\u001b[0m\u001b[0;34m[\u001b[0m\u001b[0;34m-\u001b[0m\u001b[0;36m1\u001b[0m\u001b[0;34m]\u001b[0m\u001b[0;34m,\u001b[0m \u001b[0mbigram\u001b[0m\u001b[0;34m[\u001b[0m\u001b[0;34m:\u001b[0m\u001b[0;34m-\u001b[0m\u001b[0;36m1\u001b[0m\u001b[0;34m]\u001b[0m\u001b[0;34m)\u001b[0m \u001b[0;32mfor\u001b[0m \u001b[0mbigram\u001b[0m \u001b[0;32min\u001b[0m \u001b[0mtest_data_bigram\u001b[0m\u001b[0;34m[\u001b[0m\u001b[0;36m0\u001b[0m\u001b[0;34m]\u001b[0m\u001b[0;34m]\u001b[0m\u001b[0;34m)\u001b[0m\u001b[0;34m)\u001b[0m\u001b[0;34m\u001b[0m\u001b[0;34m\u001b[0m\u001b[0m\n\u001b[0m",
      "\u001b[0;32m<ipython-input-113-3fceb7403a7d>\u001b[0m in \u001b[0;36m<listcomp>\u001b[0;34m(.0)\u001b[0m\n\u001b[1;32m     46\u001b[0m \u001b[0;31m#    for n\u001b[0m\u001b[0;34m\u001b[0m\u001b[0;34m\u001b[0m\u001b[0;34m\u001b[0m\u001b[0m\n\u001b[1;32m     47\u001b[0m \u001b[0;31m#print(\"Unigram:\", np.prod([unigram_model.score(unigram) for unigram in test_data_unigram[0]]))\u001b[0m\u001b[0;34m\u001b[0m\u001b[0;34m\u001b[0m\u001b[0;34m\u001b[0m\u001b[0m\n\u001b[0;32m---> 48\u001b[0;31m \u001b[0mprint\u001b[0m\u001b[0;34m(\u001b[0m\u001b[0;34m\"Bigram:\"\u001b[0m\u001b[0;34m,\u001b[0m \u001b[0mnp\u001b[0m\u001b[0;34m.\u001b[0m\u001b[0mprod\u001b[0m\u001b[0;34m(\u001b[0m\u001b[0;34m[\u001b[0m\u001b[0mbigram_model\u001b[0m\u001b[0;34m.\u001b[0m\u001b[0mscore\u001b[0m\u001b[0;34m(\u001b[0m\u001b[0mbigram\u001b[0m\u001b[0;34m[\u001b[0m\u001b[0;34m-\u001b[0m\u001b[0;36m1\u001b[0m\u001b[0;34m]\u001b[0m\u001b[0;34m,\u001b[0m \u001b[0mbigram\u001b[0m\u001b[0;34m[\u001b[0m\u001b[0;34m:\u001b[0m\u001b[0;34m-\u001b[0m\u001b[0;36m1\u001b[0m\u001b[0;34m]\u001b[0m\u001b[0;34m)\u001b[0m \u001b[0;32mfor\u001b[0m \u001b[0mbigram\u001b[0m \u001b[0;32min\u001b[0m \u001b[0mtest_data_bigram\u001b[0m\u001b[0;34m[\u001b[0m\u001b[0;36m0\u001b[0m\u001b[0;34m]\u001b[0m\u001b[0;34m]\u001b[0m\u001b[0;34m)\u001b[0m\u001b[0;34m)\u001b[0m\u001b[0;34m\u001b[0m\u001b[0;34m\u001b[0m\u001b[0m\n\u001b[0m",
      "\u001b[0;31mAttributeError\u001b[0m: 'NoneType' object has no attribute 'score'"
     ]
    }
   ],
   "source": [
    "import numpy as np\n",
    "from nltk import bigrams, trigrams\n",
    "\n",
    "lambda_0 = 10**(-10)\n",
    "lambda_1 = 0.01\n",
    "lambda_2 = 0.2\n",
    "lambda_3 = 1.0 - (lambda_0 + lambda_1 + lambda_2)\n",
    "\n",
    "### TRAIN ###\n",
    "\n",
    "#train_data_unigram = [ngrams(sentence, 1) for sentence in tokenized_train_text]\n",
    "\n",
    "train_data_unigram, padded_vocab = padded_everygram_pipeline(1, tokenized_train_text) # n = 1\n",
    "\n",
    "train_data_bigram = [bigrams(t,  pad_right=True, pad_left=True, left_pad_symbol=\"<s>\", right_pad_symbol=\"<e>\") for t in tokenized_train_text]\n",
    "train_data_trigram = [ngrams(sentence, 3,\n",
    "                        pad_left=True, \n",
    "                        pad_right=True, \n",
    "                        left_pad_symbol='<s>', # as we removed start symbol, replace by <s> for plotting reasons\n",
    "                        right_pad_symbol='<e>') # as we removed end symbol, replace by <e> for plotting reasons\n",
    "                for sentence in tokenized_train_text]\n",
    "words = [word for sent in tokenized_train_text for word in sent]\n",
    "padded_vocab = Vocabulary(words.extend([\"<s>\", \"<e>\"]))\n",
    "unigram_model = MLE(1).fit(train_data_unigram, padded_vocab) # n = 1\n",
    "bigram_model = MLE(2).fit(train_data_bigram, padded_vocab)\n",
    "trigram_model = MLE(3).fit(train_data_trigram, padded_vocab)\n",
    "\n",
    "### TEST ###\n",
    "\n",
    "#test_data_unigram = [ngrams(sentence, 1) for sentence in tokenized_test_text]\n",
    "test_data_unigram, _ = padded_everygram_pipeline(1, tokenized_test_text) # n = 1\n",
    "test_data_bigram = [ngrams(sentence, 2, \n",
    "                       pad_left=True, \n",
    "                       pad_right=True, \n",
    "                       left_pad_symbol='<s>', # as we removed start symbol, replace by <s> for plotting reasons\n",
    "                       right_pad_symbol='<e>') # as we removed end symbol, replace by <e> for plotting reasons\n",
    "                for sentence in tokenized_test_text]\n",
    "test_data_trigram = [ngrams(sentence, 3,\n",
    "                        pad_left=True, \n",
    "                        pad_right=True, \n",
    "                        left_pad_symbol='<s>', # as we removed start symbol, replace by <s> for plotting reasons\n",
    "                        right_pad_symbol='<e>') # as we removed end symbol, replace by <e> for plotting reasons\n",
    "                for sentence in tokenized_test_text]\n",
    "\n",
    "#for test in test_data[:3]:\n",
    "#    for n\n",
    "#print(\"Unigram:\", np.prod([unigram_model.score(unigram) for unigram in test_data_unigram[0]]))\n",
    "print(\"Bigram:\", np.prod([bigram_model.score(bigram[-1], bigram[:-1]) for bigram in test_data_bigram[0]]))"
   ]
  }
 ],
 "metadata": {
  "kernelspec": {
   "display_name": "Python 3",
   "language": "python",
   "name": "python3"
  },
  "language_info": {
   "codemirror_mode": {
    "name": "ipython",
    "version": 3
   },
   "file_extension": ".py",
   "mimetype": "text/x-python",
   "name": "python",
   "nbconvert_exporter": "python",
   "pygments_lexer": "ipython3",
   "version": "3.7.6"
  }
 },
 "nbformat": 4,
 "nbformat_minor": 4
}
