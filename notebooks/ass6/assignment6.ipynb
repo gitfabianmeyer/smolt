{
 "cells": [
  {
   "cell_type": "code",
   "execution_count": 6,
   "id": "5d864423-a54d-42af-8393-81d7e0c46ff2",
   "metadata": {},
   "outputs": [
    {
     "name": "stdout",
     "output_type": "stream",
     "text": [
      "Requirement already satisfied: nltk in c:\\users\\fmeyer\\anaconda3\\envs\\smolt\\lib\\site-packages (3.6.2)\n",
      "Requirement already satisfied: tqdm in c:\\users\\fmeyer\\anaconda3\\envs\\smolt\\lib\\site-packages (from nltk) (4.60.0)\n",
      "Requirement already satisfied: click in c:\\users\\fmeyer\\anaconda3\\envs\\smolt\\lib\\site-packages (from nltk) (7.1.2)\n",
      "Requirement already satisfied: regex in c:\\users\\fmeyer\\anaconda3\\envs\\smolt\\lib\\site-packages (from nltk) (2021.4.4)\n",
      "Requirement already satisfied: joblib in c:\\users\\fmeyer\\anaconda3\\envs\\smolt\\lib\\site-packages (from nltk) (1.0.1)\n"
     ]
    }
   ],
   "source": [
    "!pip install nltk"
   ]
  },
  {
   "cell_type": "code",
   "execution_count": 5,
   "id": "b2dd6097-7097-4271-848f-1e6d7fbfb4e1",
   "metadata": {},
   "outputs": [
    {
     "name": "stdout",
     "output_type": "stream",
     "text": [
      "Rockwell\tN\n"
     ]
    }
   ],
   "source": [
    "with open('./PC5-data/test.small.data','r') as f:\n",
    "  test_small=f.read()\n",
    "\n",
    "with open('./PC5-data/vali.small.data','r') as f:\n",
    "  val_small=f.read()\n",
    "\n",
    "with open('./PC5-data/train.small.data','r') as f:\n",
    "  train_small=f.read()\n",
    "\n",
    "print(test_small[:10])"
   ]
  },
  {
   "cell_type": "code",
   "execution_count": 7,
   "id": "d05edabf-bfdb-47df-8c99-b8097fa0a439",
   "metadata": {},
   "outputs": [
    {
     "name": "stdout",
     "output_type": "stream",
     "text": [
      "(S\n",
      "  (NP Barack/NNP Obama/NNP)\n",
      "  was/VBD\n",
      "  born/VBN\n",
      "  in/IN\n",
      "  (NP the/DT state/NN Hawaii/NNP))\n"
     ]
    }
   ],
   "source": [
    "import nltk\n",
    "from nltk.chunk.regexp import RegexpChunkRule\n",
    "\n",
    "## Grammar section\n",
    "sentence = [(\"Barack\", \"NNP\"), (\"Obama\", \"NNP\"), (\"was\", \"VBD\"), (\"born\", \"VBN\"), (\"in\", \"IN\"), (\"the\",\"DT\"), (\"state\",\"NN\"), (\"Hawaii\", \"NNP\")]\n",
    "\n",
    "# NP chunking rules\n",
    "grammar = \"\"\"NP: \n",
    "                {<NNP><NNP>}\n",
    "                {<DT><NN><NNP>}\n",
    "\"\"\"\n",
    "\n",
    "\n",
    "cp = nltk.RegexpParser(grammar)\n",
    "\n",
    "result = cp.parse(sentence)\n",
    "print(result)\n",
    "result.draw()"
   ]
  },
  {
   "cell_type": "code",
   "execution_count": 8,
   "id": "54089323-4aa1-426f-a328-b68190577479",
   "metadata": {},
   "outputs": [
    {
     "name": "stdout",
     "output_type": "stream",
     "text": [
      "(S\n",
      "  (NP the/DT little/JJ yellow/JJ dog/NN)\n",
      "  barked/VBD\n",
      "  at/IN\n",
      "  (NP the/DT cat/NN))\n"
     ]
    }
   ],
   "source": [
    "import nltk\n",
    "from nltk.chunk.regexp import RegexpChunkRule\n",
    "\n",
    "## Grammar section\n",
    "sentence = [(\"the\", \"DT\"), (\"little\", \"JJ\"), (\"yellow\", \"JJ\"), (\"dog\", \"NN\"), (\"barked\", \"VBD\"), (\"at\", \"IN\"),  (\"the\", \"DT\"), (\"cat\", \"NN\")]\n",
    "\n",
    "# NP chunking rules\n",
    "grammar = \"\"\"NP: \n",
    "                {<DT><JJ>*<NN>} \n",
    "                {<DT><NN>}\n",
    "\"\"\"\n",
    "\n",
    "cp = nltk.RegexpParser(grammar)\n",
    "\n",
    "result = cp.parse(sentence)\n",
    "print(result)\n",
    "result.draw()\n"
   ]
  },
  {
   "cell_type": "code",
   "execution_count": 16,
   "id": "83d2b73c-1aa1-4f07-b60e-2f99483d7400",
   "metadata": {},
   "outputs": [],
   "source": [
    "import sys\n",
    "import nltk\n",
    "from nltk.chunk.regexp import RegexpChunkRule\n",
    "\n",
    "\n",
    "# helper functions for tuple creation\n",
    "def group(lst, n):\n",
    "  for i in range(0, len(lst), n):\n",
    "    val = lst[i:i+n]\n",
    "    if len(val) == n:\n",
    "      yield tuple(val)\n",
    "\n",
    "def postag(lst):\n",
    "  for i in range(0, len(lst), 3):\n",
    "    val = lst[i:i+2]\n",
    "    if len(val) == 2:\n",
    "      yield tuple(val)\n",
    "\n",
    "\n",
    "# open file\n",
    "raw_annotations = open(\"train.small.data\").read()\n",
    "split_annotations = raw_annotations.split()\n",
    "\n",
    "\n",
    "# create tuples of gold annotation and postagged text\n",
    "reference_annotations = list(group(split_annotations, 3))\n",
    "\n",
    "postagged_text = list(postag(split_annotations))\n",
    "\n",
    "\n",
    "\n",
    "## Grammar section\n",
    "\n",
    "# NP chunking rules\n",
    "grammar = \"\"\"NP:\n",
    "                {<NNP>+}\n",
    "                {<DT><NN>}\n",
    "                {<VBD><NN>}\n",
    "\"\"\"\n",
    "\n",
    "cp = nltk.RegexpParser(grammar)\n",
    "\n",
    "result = cp.parse(postagged_text)\n",
    "\n",
    "\n",
    "# Convert prediction to multiline string and then to list (includes pos tags)\n",
    "multiline_string = nltk.chunk.tree2conllstr(result)\n",
    "listed_pos_and_np = multiline_string.split()\n",
    "\n",
    "\n",
    "formatted_prediction = list(group(listed_pos_and_np, 3))\n",
    "\n",
    "# output tab-separated result, add gold annotation\n",
    "with open('rules3.small.data', 'w') as f:\n",
    "    for n,res in enumerate(formatted_prediction):\n",
    "        f.write(res[0] + \"\\t\" +res[1] + \"\\t\" + reference_annotations[n][2] + \"\\t\" +res[2] + '\\n')"
   ]
  },
  {
   "cell_type": "code",
   "execution_count": null,
   "id": "65f4e182-e595-402c-b4ee-edb5c1dfaafa",
   "metadata": {},
   "outputs": [],
   "source": []
  }
 ],
 "metadata": {
  "kernelspec": {
   "display_name": "Python 3",
   "language": "python",
   "name": "python3"
  },
  "language_info": {
   "codemirror_mode": {
    "name": "ipython",
    "version": 3
   },
   "file_extension": ".py",
   "mimetype": "text/x-python",
   "name": "python",
   "nbconvert_exporter": "python",
   "pygments_lexer": "ipython3",
   "version": "3.8.8"
  }
 },
 "nbformat": 4,
 "nbformat_minor": 5
}
