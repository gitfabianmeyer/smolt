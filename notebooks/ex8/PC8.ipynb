{
 "cells": [
  {
   "cell_type": "markdown",
   "id": "72c02071",
   "metadata": {},
   "source": [
    "# Welcome to the <span style=\"color:blue\">Statistical Methods of Language Technologyb SoSe21</span> course\n",
    "###  Dr. Seid Muhie Yimam\n",
    "   * Email: yimam@informatik.uni-hamburg.de\n",
    "   * Office: Informatikum, F-415\n",
    "  \n",
    "###  Dr. Özge Alaçam\n",
    "   * Email: alacam@informatik.uni-hamburg.de\n",
    "   * Office: Informatikum, F-435"
   ]
  },
  {
   "cell_type": "markdown",
   "id": "38813e96",
   "metadata": {},
   "source": [
    "## Topic of this week;\n",
    "In this first practice class, we are going to focus on two main topics, which will be useful to complete the assignment;\n",
    "* Latent Semantic Analysis (LSA)\n",
    "* Latent Dirichlet Allocation (LDA)\n",
    "\n",
    "\n",
    "## Deadline: 16/21 June\n",
    "\n",
    "___"
   ]
  },
  {
   "cell_type": "markdown",
   "id": "008373cf",
   "metadata": {},
   "source": [
    "# <span style=\"color:red\"> Preperation: R installation </span>\n",
    "\n",
    "The exercises can be done with R, but you can also use any programming language. A small introduction into R can be found in moodle.\n",
    "\n",
    "\n",
    "* Download and install R ([http://www.r-project.org/](http://www.r-project.org/)) current version 4.1.0 \n",
    "or you can also use R with Anaconda installation here [https://docs.anaconda.com/anaconda/navigator/tutorials/r-lang/](https://docs.anaconda.com/anaconda/navigator/tutorials/r-lang/)\n",
    "\n",
    "* For Linux, you might need to add a repository, e.g. [https://cran.uni-muenster.de/](https://cran.uni-muenster.de/)\n",
    "\n",
    "* You can also install RStudio Desktop  ([https://rstudio.com/products/rstudio/download/#download](https://rstudio.com/products/rstudio/download/#download))\n",
    "\n",
    "* Or having an installation in your own computer is recommended, but if it does not work, you can access to our R server [https://ltdemos.informatik.uni-hamburg.de/rserver/](https://ltdemos.informatik.uni-hamburg.de/rserver/) with your LDAP credentials. \n",
    "\n",
    "\n",
    "After installation, you can run R by executing: \n",
    "\n",
    "<code> \\$ R </code> in the command line terminal. \n",
    "\n",
    "We will also need a package called tm (text mining). This can be installed within R by typing:\n",
    "<code> > install.packages(\"tm\",dep=T) </code> \n",
    "\n",
    "If you want to install it systemwide open R as Administrator.\n",
    "R can be closed by typing <code> q() </code> or pressing **Ctrl+D**.\n",
    "If you want to use functions of the *tm package* you have to load it. This can be done by typing:\n",
    "\n",
    "<code> > library(tm) </code>\n"
   ]
  },
  {
   "cell_type": "markdown",
   "id": "bb5778a7",
   "metadata": {},
   "source": [
    "# <span style=\"color:red\"> In class Exercises </span>"
   ]
  },
  {
   "cell_type": "markdown",
   "id": "3767644d",
   "metadata": {},
   "source": [
    "## <span style=\"color:red\"> Problem 8.1 Latent Semantic Analysis (LSA) </span>\n",
    "\n",
    "<span style=\"color:red\">a)  Download and extract the additional data from moodle. The archive contains the training documents for this exercise.  </span>\n",
    "All files start with *c* (for corpus), the second letter indicates the *topic* of the document.\n",
    "\n",
    "<span style=\"color:red\">b) Read the training files:</span>\n",
    "\n",
    "* load the text mining package:\n",
    "<code> library(tm) </code>\n",
    "\n",
    "* load the names of the training documents:\n",
    "<code> files =  DirSource(\".\",pattern=\"^c.*\")  </code>\n",
    "    \n",
    "* create a corpus and read the files:\n",
    "<code> training=Corpus(files) </code>\n",
    "\n",
    "* to get an impression of the training object type:\n",
    "<code> training </code>\n",
    "\n",
    "* to get a deeper look into the documents type:\n",
    "<code> inspect(training) </code>\n",
    "\n",
    "* to convert the documents to a document term matrix use:\n",
    "<code> dtm = DocumentTermMatrix(training,control=list(tolower=F)) </code>\n",
    "\n",
    "\n",
    "\n",
    "\n",
    "\n",
    "\n",
    "\n",
    "\n"
   ]
  },
  {
   "cell_type": "markdown",
   "id": "b461c1a9",
   "metadata": {},
   "source": [
    "<span style=\"color:red\"> c) List the number of times and the percentage of following terms within the corpus and the percentage of occurrence within a document : “bank”, “money”, “stream” , “river”  </span>\n",
    "\n",
    "**Hint:** use <code> as.matrix(dtm) </code> to convert the document term matrix to a “real matrix”\n",
    "\n",
    "<code> m = as.matrix(dtm) </code> \\\n",
    "<code> sum(m[,\"bank\"]) </code> \\\n",
    "<code>  sum(m[,\"money\"]) </code> \\\n",
    "<code> sum(m[,\"stream\"]) </code> \\\n",
    "<code> sum(m[,\"river\"])</code> \\\n",
    "<code> sum(m[,\"bank\"])/sum(m) </code> \\\n",
    "<code> sum(m[,\"money\"])/sum(m) </code> \\\n",
    "<code> sum(m[,\"stream\"])/sum(m) </code> \\\n",
    "<code> sum(m[,\"river\"])/sum(m) </code> \\\n",
    "\n",
    "\n",
    "* Count how often the number is greater than 0 and divide it by the number of columns/documents \\\\\n",
    "\n",
    "<code>dim(m[m[,\"bank\"]>0,])[1] / length(m[,1]) </code> \\\n",
    "<code>dim(m[m[,\"money\"]>0,])[1] / length(m[,1]) </code> \\\n",
    "<code>dim(m[m[,\"river\"]>0,])[1] / length(m[,1]) </code> \\\n",
    "<code>dim(m[m[,\"stream\"]>0,])[1] / length(m[,1]) </code> \\\n"
   ]
  },
  {
   "cell_type": "markdown",
   "id": "bb65bf83",
   "metadata": {},
   "source": [
    "<span style=\"color:red\">  d) Plot the first two dimensions of the document matrix using singular value decomposition </span>\n",
    "\n",
    "**Hints:** \n",
    "*  The R command for SVD is ```svd(Matrix)``` (lookup the command ```?svd```).  ```svd(Matrix)```  returns an object with values ```u,s,v``` which can be accessed using: \n",
    "\n",
    "<code> s = svd(Matrix) </code> \\\n",
    "<code> s\\$u;s\\$v;s\\$d </code>  \n",
    "\n",
    "* If you want to transpose a matrix use <code>t(matrix) </code> \n",
    "* Matrix multiplication is done by <code> V \\%*\\% U </code> \n",
    "* You can use the provided plot function <code> plotLatentVariables} </code> \n",
    "\n",
    "## Plot method\n",
    "```\n",
    "plotLatentVariables<-function(val,files,showFilenames=F){\n",
    "\tf = substr(basename(files$filelist),0,2)\n",
    "\tt = unique(f)\n",
    "\ts = match(f,t)\n",
    "\tplot(val,pch=s,col=s)\n",
    "\tlegend(\"topleft\", legend=t, pch=1:length(t),col=1:length(t))\n",
    "\tif(showFilenames){\n",
    "\t\ttext(val, labels=basename(files$filelist))\n",
    "\t\t}\n",
    "\t}\n",
    "```\n",
    "## apply svd on the document term matrix\n",
    "\n",
    "```\n",
    "r=svd(dtm)\n",
    " u = r$u\n",
    " s = diag(r$d)\n",
    " v = r$v\n",
    " plotLatentVariables (u, files )\n",
    " plotLatentVariables (u, files, showFilenames = TRUE)\n",
    " \n",
    " ```\n",
    "    "
   ]
  },
  {
   "cell_type": "markdown",
   "id": "b60d247f",
   "metadata": {},
   "source": [
    "### Hints from lecture Slides:\n",
    "<img src=\"LSA_1.png\" width=60%>\n",
    "<img src=\"LSA_2.png\" width=60%>\n",
    "<img src=\"LSA_3.png\" width=60%>\n"
   ]
  },
  {
   "cell_type": "markdown",
   "id": "23dd6e40",
   "metadata": {},
   "source": [
    "# R cheatsheet\n",
    "\n",
    "## R plot pch symbols : The different point shapes available in \n",
    "### Different plotting symbols are available in R. The graphical argument used to specify point shapes is pch.\n",
    "    pch = 0,square\n",
    "    pch = 1,circle\n",
    "    pch = 2,triangle point up\n",
    "    pch = 3,plus\n",
    "    pch = 4,cross\n",
    "    pch = 5,diamond\n",
    "    pch = 6,triangle point down\n",
    "    pch = 7,square cross\n",
    "    pch = 8,star\n",
    "    pch = 9,diamond plus\n",
    "    pch = 10,circle plus\n",
    "    pch = 11,triangles up and down\n",
    "    pch = 12,square plus\n",
    "    pch = 13,circle cross\n",
    "    pch = 14,square and triangle down\n",
    "    pch = 15, filled square\n",
    "    pch = 16, filled circle\n",
    "    pch = 17, filled triangle point-up\n",
    "    pch = 18, filled diamond\n",
    "    pch = 19, solid circle\n",
    "    pch = 20,bullet (smaller circle)\n",
    "    pch = 21, filled circle blue\n",
    "    pch = 22, filled square blue\n",
    "    pch = 23, filled diamond blue\n",
    "    pch = 24, filled triangle point-up blue\n",
    "    pch = 25, filled triangle point down blue\n",
    "\n",
    "## To get current working directory\n",
    "```getwd()```\n",
    "### To change working directory\n",
    "```setwd(\"/path/to/dir\")```"
   ]
  },
  {
   "cell_type": "markdown",
   "id": "3a391cb8",
   "metadata": {},
   "source": [
    "## <span style=\"color:red\"> Problem 8.2 Latent Dirichlet Allocation </span>"
   ]
  },
  {
   "cell_type": "markdown",
   "id": "ce842c03",
   "metadata": {},
   "source": [
    "<span style=\"color:red\">  a) Download, unpack and compile GibbsLDA++ (http://gibbslda.sourceforge.net/) into the corpus directory. </span>\n",
    "**Note:** on some systems, you need to add $#include <cstdlib>$ to util.cpp, and $#include <stdio.h>$ to lda.cpp for compilation)  \\\n",
    "``` $ wget http://downloads.sourceforge.net/project/gibbslda/GibbsLDA++/0.2/GibbsLDA++-0.2.tar.gz\n",
    "\n",
    " $ tar -xzvf GibbsLDA++-0.2.tar.gz \n",
    " \n",
    " $ cd GibbsLDA++-0.2 \n",
    " \n",
    " $ make clean all \n",
    "\n",
    "```\n",
    "If you encounter problems during compilation, you will need to add dependencies to files in <code> ./src/ </code>\n",
    "\n",
    "* **utils.cpp** $#include <cstdlib>$\n",
    "* **lda.cpp** $#include <stdio.h>$\n"
   ]
  },
  {
   "attachments": {
    "image.png": {
     "image/png": "[encoded data removed]"
    }
   },
   "cell_type": "markdown",
   "id": "63505f11",
   "metadata": {},
   "source": [
    "<span style=\"color:red\">  b) Convert the training documents from \\ref{sec:1} into the format for \\mbox{GibbsLDA} with the following specification: </span> \\\n",
    "GibbsLDA File Format Specification: \\\n",
    "\n",
    "\n",
    "![image.png](attachment:image.png)\n",
    "\n",
    "\n",
    "\n",
    "* run the following command inside the \"PS-08-data\" folder \\\n",
    "\n",
    "```f=lda-input.txt; ls c* | wc -l | tr -d \" \" > $f; cat c* >> $f ```"
   ]
  },
  {
   "cell_type": "markdown",
   "id": "f45b2b3b",
   "metadata": {},
   "source": [
    "<span style=\"color:red\">  c) Train GibbsLDA with 3 topics (as we have 3 different kinds of documents). Inspect all output files.  </span> \n",
    "\n",
    "``` GibbsLDA++-0.2/src/lda -est -beta 0.01 -ntopics 3 -niters 500 -twords 30 -dfile lda-input.txt ```\n",
    "\n",
    "\n",
    "Output files:\\\n",
    "model-final.twords: contains most likely words per topic \\\n",
    "model-final.tassign: contains the topic assignment of each word in the training data \\\n",
    "model-final.theta: topic-document distribution \\\n",
    "model-final.phi: word-topic distribution \\\n",
    "wordmap.txt: vocabulary with index of each word "
   ]
  },
  {
   "cell_type": "markdown",
   "id": "50e05b16",
   "metadata": {},
   "source": [
    "<span style=\"color:red\">  d) Compare the topic distribution of each document with every other document and plot the result.  </span> \\\n",
    "Use the following distance function between two documents $x$ and $y$ (represented as vectors of topic probabilities), where $K$ is the number of topics:\n",
    "$$\n",
    "d(x,y) = \\sqrt{ \\sum\\limits_{k=1}^{K} ( x_k - y_k )^2}\n",
    "$$\n",
    "Briefly describe what you see. \\\n",
    "\n",
    "```\n",
    "library(tm) \n",
    " t = read.table(\"model-final.theta\") \n",
    " f = DirSource(\".\",pattern=\"^c.*\") \n",
    " fp = substr(basename(f$filelist),0,2) \n",
    " color = rainbow(length(unique(fp))) \n",
    " ndoc = dim(t)[1] \n",
    " #initialize plot   \n",
    " plot(c(),xlim=c(1,ndoc),ylim=c(0,1),xaxt=\"n\", xlab=\"Document\", ylab=\"Similarity\") \n",
    " sim=matrix(0,ndoc,ndoc) \n",
    " for(i in 1:ndoc){ \n",
    "   fpi = which(unique(fp)==fp[i])\n",
    "   v1=t[i,]\n",
    "  for(j in 1:ndoc){\n",
    "    v2=t[j,]\n",
    "    sim[i,j]=1-sqrt(sum((v1-v2)^2))\n",
    "   }\n",
    "   lines(1:ndoc,sim[i,],col=color[fpi]) # add lines to the plot \n",
    " } \n",
    " axis(1,at=1:length(fp),basename(f$filelist)) \n",
    " legend(\"bottomright\",legend=unique(fp), col=color,lty=1) \n",
    " # another view on the data \n",
    " #X11() # opens a new window for a second plot, keeps the previous available. \n",
    " # If X11() is not working, comment it as well heatmap() below and see plots separately \n",
    " heatmap(sim, Rowv=NA, Colv=NA, symm=T)\n",
    " ```"
   ]
  },
  {
   "cell_type": "markdown",
   "id": "64e87f52",
   "metadata": {},
   "source": [
    "### Hints from lecture Slides:\n",
    "<img src=\"LDA_1.png\" width=60%>\n",
    "<img src=\"LDA_2.png\" width=60%>\n",
    "<img src=\"LDA_3.png\" width=60%>\n",
    "<img src=\"LDA_4.png\" width=60%>\n",
    "<img src=\"LDA_5.png\" width=60%>\n",
    "<img src=\"LDA_6.png\" width=60%>"
   ]
  },
  {
   "cell_type": "code",
   "execution_count": null,
   "id": "d7a46960",
   "metadata": {},
   "outputs": [],
   "source": []
  }
 ],
 "metadata": {
  "kernelspec": {
   "display_name": "Python 3",
   "language": "python",
   "name": "python3"
  },
  "language_info": {
   "codemirror_mode": {
    "name": "ipython",
    "version": 3
   },
   "file_extension": ".py",
   "mimetype": "text/x-python",
   "name": "python",
   "nbconvert_exporter": "python",
   "pygments_lexer": "ipython3",
   "version": "3.8.8"
  }
 },
 "nbformat": 4,
 "nbformat_minor": 5
}
